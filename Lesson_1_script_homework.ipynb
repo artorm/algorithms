{
 "cells": [
  {
   "cell_type": "markdown",
   "metadata": {},
   "source": [
    "## Урок 1. Алгоритм линейной регрессии. Градиентный спуск"
   ]
  },
  {
   "cell_type": "code",
   "execution_count": 2,
   "metadata": {
    "colab": {},
    "colab_type": "code",
    "id": "ak8b3KV45kVW"
   },
   "outputs": [],
   "source": [
    "import numpy as np\n",
    "import matplotlib.pyplot as plt"
   ]
  },
  {
   "cell_type": "markdown",
   "metadata": {},
   "source": [
    "__Задача:__ предсказание баллов ЕГЭ ученика в зависимости от кол-ва лет стажа его репетитора"
   ]
  },
  {
   "cell_type": "code",
   "execution_count": 3,
   "metadata": {
    "colab": {},
    "colab_type": "code",
    "id": "i77tZbAd5plB"
   },
   "outputs": [
    {
     "data": {
      "text/plain": [
       "array([[ 1,  1,  1,  1,  1,  1,  1,  1,  1,  1],\n",
       "       [ 1,  1,  2,  5,  3,  0,  5, 10,  1,  2]])"
      ]
     },
     "execution_count": 3,
     "metadata": {},
     "output_type": "execute_result"
    }
   ],
   "source": [
    "X = np.array([[1, 1, 1, 1, 1, 1, 1, 1, 1, 1],\n",
    "              [1, 1, 2, 5, 3, 0, 5, 10, 1, 2]])\n",
    "X"
   ]
  },
  {
   "cell_type": "code",
   "execution_count": 4,
   "metadata": {},
   "outputs": [
    {
     "data": {
      "text/plain": [
       "array([[ 1,  1],\n",
       "       [ 1,  1],\n",
       "       [ 1,  2],\n",
       "       [ 1,  5],\n",
       "       [ 1,  3],\n",
       "       [ 1,  0],\n",
       "       [ 1,  5],\n",
       "       [ 1, 10],\n",
       "       [ 1,  1],\n",
       "       [ 1,  2]])"
      ]
     },
     "execution_count": 4,
     "metadata": {},
     "output_type": "execute_result"
    }
   ],
   "source": [
    "X.T"
   ]
  },
  {
   "cell_type": "code",
   "execution_count": 5,
   "metadata": {
    "colab": {
     "base_uri": "https://localhost:8080/",
     "height": 34
    },
    "colab_type": "code",
    "id": "ejifaMBe6VaP",
    "outputId": "190a541b-5c6d-48f6-8982-b513de5d7606"
   },
   "outputs": [
    {
     "data": {
      "text/plain": [
       "(2, 10)"
      ]
     },
     "execution_count": 5,
     "metadata": {},
     "output_type": "execute_result"
    }
   ],
   "source": [
    "X.shape"
   ]
  },
  {
   "cell_type": "code",
   "execution_count": 6,
   "metadata": {
    "colab": {},
    "colab_type": "code",
    "id": "VsNrKi1Q6Wmh"
   },
   "outputs": [],
   "source": [
    "y = [45, 55, 50, 55, 60, 35, 75, 80, 50, 60]"
   ]
  },
  {
   "cell_type": "code",
   "execution_count": 7,
   "metadata": {},
   "outputs": [
    {
     "data": {
      "text/plain": [
       "<matplotlib.collections.PathCollection at 0x1efaed83788>"
      ]
     },
     "execution_count": 7,
     "metadata": {},
     "output_type": "execute_result"
    },
    {
     "data": {
      "image/png": "[encoded data removed]",
      "text/plain": [
       "<Figure size 432x288 with 1 Axes>"
      ]
     },
     "metadata": {
      "needs_background": "light"
     },
     "output_type": "display_data"
    }
   ],
   "source": [
    "plt.scatter(X[1], y)"
   ]
  },
  {
   "cell_type": "code",
   "execution_count": 31,
   "metadata": {},
   "outputs": [
    {
     "ename": "NameError",
     "evalue": "name 'm' is not defined",
     "output_type": "error",
     "traceback": [
      "\u001b[1;31m---------------------------------------------------------------------------\u001b[0m",
      "\u001b[1;31mNameError\u001b[0m                                 Traceback (most recent call last)",
      "\u001b[1;32m<ipython-input-31-6a016a957a4e>\u001b[0m in \u001b[0;36m<module>\u001b[1;34m\u001b[0m\n\u001b[1;32m----> 1\u001b[1;33m \u001b[0my_pred1\u001b[0m \u001b[1;33m=\u001b[0m \u001b[0mn\u001b[0m\u001b[1;33m*\u001b[0m\u001b[0mX\u001b[0m\u001b[1;33m[\u001b[0m\u001b[1;36m0\u001b[0m\u001b[1;33m]\u001b[0m \u001b[1;33m+\u001b[0m \u001b[0mX\u001b[0m\u001b[1;33m[\u001b[0m\u001b[1;36m1\u001b[0m\u001b[1;33m]\u001b[0m\u001b[1;33m*\u001b[0m\u001b[0mm\u001b[0m\u001b[1;33m\u001b[0m\u001b[1;33m\u001b[0m\u001b[0m\n\u001b[0m",
      "\u001b[1;31mNameError\u001b[0m: name 'm' is not defined"
     ]
    }
   ],
   "source": [
    "y_pred1 = n*X[0] + X[1]*m"
   ]
  },
  {
   "cell_type": "code",
   "execution_count": null,
   "metadata": {},
   "outputs": [],
   "source": [
    "plt.scatter(X[1], y)\n",
    "plt.plot(X[1], y_pred1, label='1')\n",
    "plt.legend()\n",
    "plt.show()"
   ]
  },
  {
   "cell_type": "markdown",
   "metadata": {},
   "source": [
    "Уравнение прямой: $y = a*x + b$"
   ]
  },
  {
   "cell_type": "code",
   "execution_count": 9,
   "metadata": {
    "colab": {},
    "colab_type": "code",
    "id": "NntLxvtU7CbH"
   },
   "outputs": [],
   "source": [
    "y_pred1 = 35 * np.ones(10) + X[1]*5\n",
    "y_pred2 = 40 * np.ones(10) + X[1]*7.5"
   ]
  },
  {
   "cell_type": "code",
   "execution_count": 10,
   "metadata": {
    "colab": {
     "base_uri": "https://localhost:8080/",
     "height": 282
    },
    "colab_type": "code",
    "id": "OTikrodr6n-i",
    "outputId": "9c347927-ae0d-40ba-bcd7-fdd9de2688bf"
   },
   "outputs": [
    {
     "data": {
      "image/png": "[encoded data removed]",
      "text/plain": [
       "<Figure size 432x288 with 1 Axes>"
      ]
     },
     "metadata": {
      "needs_background": "light"
     },
     "output_type": "display_data"
    }
   ],
   "source": [
    "plt.scatter(X[1], y)\n",
    "plt.plot(X[1], y_pred1, label='1')\n",
    "plt.plot(X[1], y_pred2, label='2')\n",
    "plt.legend()\n",
    "plt.show()"
   ]
  },
  {
   "cell_type": "markdown",
   "metadata": {},
   "source": [
    "Простая ошибка"
   ]
  },
  {
   "cell_type": "code",
   "execution_count": 11,
   "metadata": {
    "colab": {},
    "colab_type": "code",
    "id": "zbsqjAxH9WqI"
   },
   "outputs": [
    {
     "data": {
      "text/plain": [
       "(65.0, -60.0)"
      ]
     },
     "execution_count": 11,
     "metadata": {},
     "output_type": "execute_result"
    }
   ],
   "source": [
    "err1 = np.sum(y - y_pred1)\n",
    "err2 = np.sum(y - y_pred2)\n",
    "err1, err2"
   ]
  },
  {
   "cell_type": "markdown",
   "metadata": {},
   "source": [
    "MAE (Mean Absolute Error)"
   ]
  },
  {
   "cell_type": "code",
   "execution_count": 12,
   "metadata": {
    "colab": {},
    "colab_type": "code",
    "id": "vUqCthPf9eYI"
   },
   "outputs": [
    {
     "data": {
      "text/plain": [
       "(8.5, 9.0)"
      ]
     },
     "execution_count": 12,
     "metadata": {},
     "output_type": "execute_result"
    }
   ],
   "source": [
    "mae_1 = np.sum(np.abs(y - y_pred1)) / 10\n",
    "mae_2 = np.sum(np.abs(y - y_pred2)) / 10\n",
    "mae_1, mae_2"
   ]
  },
  {
   "cell_type": "markdown",
   "metadata": {},
   "source": [
    "MSE (Mean Squared Error)"
   ]
  },
  {
   "cell_type": "code",
   "execution_count": 13,
   "metadata": {
    "colab": {},
    "colab_type": "code",
    "id": "XTn2bZIg_EBS"
   },
   "outputs": [
    {
     "data": {
      "text/plain": [
       "(97.5, 188.75)"
      ]
     },
     "execution_count": 13,
     "metadata": {},
     "output_type": "execute_result"
    }
   ],
   "source": [
    "mse_1 = np.mean((y - y_pred1)**2)\n",
    "mse_2 = np.mean((y - y_pred2)**2)\n",
    "mse_1, mse_2"
   ]
  },
  {
   "cell_type": "markdown",
   "metadata": {
    "colab_type": "text",
    "id": "R4zHyZ2Da5HV"
   },
   "source": [
    "Метод наименьших квадратов (МНК)"
   ]
  },
  {
   "cell_type": "code",
   "execution_count": 14,
   "metadata": {
    "colab": {
     "base_uri": "https://localhost:8080/",
     "height": 34
    },
    "colab_type": "code",
    "id": "GEeiext0BR1m",
    "outputId": "2a5e98e6-e201-4cf9-c113-bb207490b31e"
   },
   "outputs": [
    {
     "data": {
      "text/plain": [
       "(2, 10)"
      ]
     },
     "execution_count": 14,
     "metadata": {},
     "output_type": "execute_result"
    }
   ],
   "source": [
    "X.shape"
   ]
  },
  {
   "cell_type": "code",
   "execution_count": 15,
   "metadata": {
    "colab": {
     "base_uri": "https://localhost:8080/",
     "height": 34
    },
    "colab_type": "code",
    "id": "j1BN1FZHBVo8",
    "outputId": "d5820bdf-e0a3-4de0-96ef-b73e9b43fd64"
   },
   "outputs": [
    {
     "data": {
      "text/plain": [
       "(10, 2)"
      ]
     },
     "execution_count": 15,
     "metadata": {},
     "output_type": "execute_result"
    }
   ],
   "source": [
    "X.T.shape"
   ]
  },
  {
   "cell_type": "code",
   "execution_count": 16,
   "metadata": {},
   "outputs": [
    {
     "data": {
      "text/plain": [
       "True"
      ]
     },
     "execution_count": 16,
     "metadata": {},
     "output_type": "execute_result"
    }
   ],
   "source": [
    "all(X @ y == np.dot(X,y)) #X.dot(y)"
   ]
  },
  {
   "cell_type": "code",
   "execution_count": 17,
   "metadata": {
    "colab": {
     "base_uri": "https://localhost:8080/",
     "height": 34
    },
    "colab_type": "code",
    "id": "mnyZzkaDBegD",
    "outputId": "368800a6-deef-46d0-b27f-d6eb5e46a743"
   },
   "outputs": [
    {
     "data": {
      "text/plain": [
       "array([45.0625,  3.8125])"
      ]
     },
     "execution_count": 17,
     "metadata": {},
     "output_type": "execute_result"
    }
   ],
   "source": [
    "W = np.linalg.inv(np.dot(X, X.T)) @ X @ y\n",
    "W"
   ]
  },
  {
   "cell_type": "code",
   "execution_count": 18,
   "metadata": {},
   "outputs": [],
   "source": [
    "y_pred3 = W[0] * X[0] + W[1] * X[1]"
   ]
  },
  {
   "cell_type": "code",
   "execution_count": 19,
   "metadata": {
    "colab": {
     "base_uri": "https://localhost:8080/",
     "height": 282
    },
    "colab_type": "code",
    "id": "Lyg-J3H7Bnv5",
    "outputId": "7701dd28-d123-4773-cd1f-1439abfb6d90"
   },
   "outputs": [
    {
     "data": {
      "image/png": "[encoded data removed]",
      "text/plain": [
       "<Figure size 432x288 with 1 Axes>"
      ]
     },
     "metadata": {
      "needs_background": "light"
     },
     "output_type": "display_data"
    }
   ],
   "source": [
    "plt.scatter(X[1], y)\n",
    "plt.plot(X[1], y_pred1, label='1 - manual')\n",
    "plt.plot(X[1], y_pred2, label='2 - manual')\n",
    "plt.plot(X[1], y_pred3, label='3 - analytical solution')\n",
    "plt.legend()\n",
    "plt.show()"
   ]
  },
  {
   "cell_type": "code",
   "execution_count": 20,
   "metadata": {
    "colab": {},
    "colab_type": "code",
    "id": "JTSC2cFnCd8T"
   },
   "outputs": [],
   "source": [
    "def calc_mae(y, y_pred):\n",
    "    err = np.mean(np.abs(y - y_pred))\n",
    "    return err\n",
    "\n",
    "def calc_mse(y, y_pred):\n",
    "    err = np.mean((y - y_pred)**2) # <=> 1/n * np.sum((y_pred - y)**2)\n",
    "    return err"
   ]
  },
  {
   "cell_type": "code",
   "execution_count": 21,
   "metadata": {
    "colab": {
     "base_uri": "https://localhost:8080/",
     "height": 34
    },
    "colab_type": "code",
    "id": "MYSrwISJDGfS",
    "outputId": "891bfd3a-142c-466c-a9d9-7ebfb303e86c"
   },
   "outputs": [
    {
     "data": {
      "text/plain": [
       "(8.5, 97.5)"
      ]
     },
     "execution_count": 21,
     "metadata": {},
     "output_type": "execute_result"
    }
   ],
   "source": [
    "calc_mae(y, y_pred1), calc_mse(y, y_pred1)"
   ]
  },
  {
   "cell_type": "code",
   "execution_count": 22,
   "metadata": {
    "colab": {
     "base_uri": "https://localhost:8080/",
     "height": 34
    },
    "colab_type": "code",
    "id": "MYSrwISJDGfS",
    "outputId": "891bfd3a-142c-466c-a9d9-7ebfb303e86c"
   },
   "outputs": [
    {
     "data": {
      "text/plain": [
       "(9.0, 188.75)"
      ]
     },
     "execution_count": 22,
     "metadata": {},
     "output_type": "execute_result"
    }
   ],
   "source": [
    "calc_mae(y, y_pred2), calc_mse(y, y_pred2)"
   ]
  },
  {
   "cell_type": "code",
   "execution_count": 23,
   "metadata": {
    "colab": {
     "base_uri": "https://localhost:8080/",
     "height": 34
    },
    "colab_type": "code",
    "id": "_WtO6lvhDmQ6",
    "outputId": "8de8b895-85d8-448e-f565-b70e93a5dd25"
   },
   "outputs": [
    {
     "data": {
      "text/plain": [
       "(5.7875, 43.96874999999999)"
      ]
     },
     "execution_count": 23,
     "metadata": {},
     "output_type": "execute_result"
    }
   ],
   "source": [
    "calc_mae(y, y_pred3), calc_mse(y, y_pred3)"
   ]
  },
  {
   "cell_type": "markdown",
   "metadata": {
    "colab_type": "text",
    "id": "JAOgIXLRa--g"
   },
   "source": [
    "Градиентный спуск"
   ]
  },
  {
   "cell_type": "code",
   "execution_count": 24,
   "metadata": {
    "colab": {},
    "colab_type": "code",
    "id": "DNebwUP7Fd8F"
   },
   "outputs": [],
   "source": [
    "n = 10\n",
    "Q = 1/n * np.sum((y_pred3 - y)**2) # функционал ошибки, y = X*w"
   ]
  },
  {
   "cell_type": "code",
   "execution_count": 25,
   "metadata": {
    "colab": {},
    "colab_type": "code",
    "id": "5DKkvmkwHdOx"
   },
   "outputs": [],
   "source": [
    "alpha = 1e-2 # величина шага\n",
    "g = alpha * (1/n * 2 * np.sum(X[0] * (W[0] * X[0] - y)))"
   ]
  },
  {
   "cell_type": "code",
   "execution_count": 30,
   "metadata": {
    "colab": {
     "base_uri": "https://localhost:8080/",
     "height": 34
    },
    "colab_type": "code",
    "id": "ZVRCF5P2MYI6",
    "outputId": "0b0e2f05-a23c-4bf8-f37d-b4240d2e0af0"
   },
   "outputs": [
    {
     "data": {
      "text/plain": [
       "(45.062500000000014, 45.29125000000001)"
      ]
     },
     "execution_count": 30,
     "metadata": {},
     "output_type": "execute_result"
    }
   ],
   "source": [
    "W[0], W[0] - g"
   ]
  },
  {
   "cell_type": "markdown",
   "metadata": {},
   "source": [
    "### Д/З"
   ]
  },
  {
   "cell_type": "markdown",
   "metadata": {
    "colab_type": "text",
    "id": "huXrhXQsZTMt"
   },
   "source": [
    "1. Подберите скорость обучения (alpha) и количество итераций"
   ]
  },
  {
   "cell_type": "code",
   "execution_count": 55,
   "metadata": {
    "colab": {
     "base_uri": "https://localhost:8080/",
     "height": 185
    },
    "colab_type": "code",
    "id": "IDB22MQKMYaJ",
    "outputId": "4c03219e-a57c-4583-f439-6699fd0619bb"
   },
   "outputs": [
    {
     "name": "stdout",
     "output_type": "stream",
     "text": [
      "Number of objects = 10        \n",
      "Learning rate = 1e-08        \n",
      "Initial weights = [1.  0.5] \n",
      "\n",
      "Iteration #0: W_new = [1.00000108 0.50000377], MSE = 3047.75\n"
     ]
    }
   ],
   "source": [
    "n = X.shape[1]\n",
    "alpha = 0.00000001\n",
    "W = np.array([1, 0.5])\n",
    "print(f'Number of objects = {n} \\\n",
    "       \\nLearning rate = {alpha} \\\n",
    "       \\nInitial weights = {W} \\n')\n",
    "\n",
    "for i in range(10):\n",
    "    y_pred = np.dot(W, X)\n",
    "    err = calc_mse(y, y_pred)\n",
    "    for k in range(W.shape[0]):\n",
    "        W[k] -= alpha * (1/n * 2 * np.sum(X[k] * (y_pred - y)))\n",
    "    if i % 10 == 0:\n",
    "        alpha /= 1.1\n",
    "        print(f'Iteration #{i}: W_new = {W}, MSE = {round(err,2)}')"
   ]
  },
  {
   "cell_type": "markdown",
   "metadata": {},
   "source": [
    "    Насколько я понял задачу нужно подобрать количество итреаций и alpha таким образом что бы получилось  W_new =Initial weights\n",
    "    За минимальное количество итераций.\n",
    "     У меня получилось:\n",
    "      alpha = 0.00000001\n",
    "       range(10)"
   ]
  },
  {
   "cell_type": "markdown",
   "metadata": {
    "colab_type": "text",
    "id": "5Qu1o4JhZYwI"
   },
   "source": [
    "*2. В этом коде мы избавляемся от итераций по весам, но тут есть ошибка, исправьте ее"
   ]
  },
  {
   "cell_type": "code",
   "execution_count": 59,
   "metadata": {
    "colab": {
     "base_uri": "https://localhost:8080/",
     "height": 185
    },
    "colab_type": "code",
    "id": "WZZzDCQLY4pA",
    "outputId": "28f58ade-72f2-4381-809d-2417752d56e4"
   },
   "outputs": [
    {
     "name": "stdout",
     "output_type": "stream",
     "text": [
      "Number of objects = 10        \n",
      "Learning rate = 0.01        \n",
      "Initial weights = [1.  0.5] \n",
      "\n",
      "Iteration #0: W_new = [5.85 5.35], MSE = 3047.75\n",
      "Iteration #10: W_new = [11.0965715 10.5965715], MSE = 597.49\n",
      "Iteration #20: W_new = [11.10415569 10.60415569], MSE = 597.49\n",
      "Iteration #30: W_new = [11.10416665 10.60416665], MSE = 597.49\n",
      "Iteration #40: W_new = [11.10416667 10.60416667], MSE = 597.49\n",
      "Iteration #50: W_new = [11.10416667 10.60416667], MSE = 597.49\n",
      "Iteration #60: W_new = [11.10416667 10.60416667], MSE = 597.49\n",
      "Iteration #70: W_new = [11.10416667 10.60416667], MSE = 597.49\n",
      "Iteration #80: W_new = [11.10416667 10.60416667], MSE = 597.49\n",
      "Iteration #90: W_new = [11.10416667 10.60416667], MSE = 597.49\n",
      "Iteration #100: W_new = [11.10416667 10.60416667], MSE = 597.49\n",
      "Iteration #110: W_new = [11.10416667 10.60416667], MSE = 597.49\n",
      "Iteration #120: W_new = [11.10416667 10.60416667], MSE = 597.49\n",
      "Iteration #130: W_new = [11.10416667 10.60416667], MSE = 597.49\n",
      "Iteration #140: W_new = [11.10416667 10.60416667], MSE = 597.49\n",
      "Iteration #150: W_new = [11.10416667 10.60416667], MSE = 597.49\n",
      "Iteration #160: W_new = [11.10416667 10.60416667], MSE = 597.49\n",
      "Iteration #170: W_new = [11.10416667 10.60416667], MSE = 597.49\n",
      "Iteration #180: W_new = [11.10416667 10.60416667], MSE = 597.49\n",
      "Iteration #190: W_new = [11.10416667 10.60416667], MSE = 597.49\n",
      "Iteration #200: W_new = [11.10416667 10.60416667], MSE = 597.49\n",
      "Iteration #210: W_new = [11.10416667 10.60416667], MSE = 597.49\n",
      "Iteration #220: W_new = [11.10416667 10.60416667], MSE = 597.49\n",
      "Iteration #230: W_new = [11.10416667 10.60416667], MSE = 597.49\n",
      "Iteration #240: W_new = [11.10416667 10.60416667], MSE = 597.49\n",
      "Iteration #250: W_new = [11.10416667 10.60416667], MSE = 597.49\n",
      "Iteration #260: W_new = [11.10416667 10.60416667], MSE = 597.49\n",
      "Iteration #270: W_new = [11.10416667 10.60416667], MSE = 597.49\n",
      "Iteration #280: W_new = [11.10416667 10.60416667], MSE = 597.49\n",
      "Iteration #290: W_new = [11.10416667 10.60416667], MSE = 597.49\n",
      "Iteration #300: W_new = [11.10416667 10.60416667], MSE = 597.49\n",
      "Iteration #310: W_new = [11.10416667 10.60416667], MSE = 597.49\n",
      "Iteration #320: W_new = [11.10416667 10.60416667], MSE = 597.49\n",
      "Iteration #330: W_new = [11.10416667 10.60416667], MSE = 597.49\n",
      "Iteration #340: W_new = [11.10416667 10.60416667], MSE = 597.49\n",
      "Iteration #350: W_new = [11.10416667 10.60416667], MSE = 597.49\n",
      "Iteration #360: W_new = [11.10416667 10.60416667], MSE = 597.49\n",
      "Iteration #370: W_new = [11.10416667 10.60416667], MSE = 597.49\n",
      "Iteration #380: W_new = [11.10416667 10.60416667], MSE = 597.49\n",
      "Iteration #390: W_new = [11.10416667 10.60416667], MSE = 597.49\n",
      "Iteration #400: W_new = [11.10416667 10.60416667], MSE = 597.49\n",
      "Iteration #410: W_new = [11.10416667 10.60416667], MSE = 597.49\n",
      "Iteration #420: W_new = [11.10416667 10.60416667], MSE = 597.49\n",
      "Iteration #430: W_new = [11.10416667 10.60416667], MSE = 597.49\n",
      "Iteration #440: W_new = [11.10416667 10.60416667], MSE = 597.49\n",
      "Iteration #450: W_new = [11.10416667 10.60416667], MSE = 597.49\n",
      "Iteration #460: W_new = [11.10416667 10.60416667], MSE = 597.49\n",
      "Iteration #470: W_new = [11.10416667 10.60416667], MSE = 597.49\n",
      "Iteration #480: W_new = [11.10416667 10.60416667], MSE = 597.49\n",
      "Iteration #490: W_new = [11.10416667 10.60416667], MSE = 597.49\n",
      "Iteration #500: W_new = [11.10416667 10.60416667], MSE = 597.49\n",
      "Iteration #510: W_new = [11.10416667 10.60416667], MSE = 597.49\n",
      "Iteration #520: W_new = [11.10416667 10.60416667], MSE = 597.49\n",
      "Iteration #530: W_new = [11.10416667 10.60416667], MSE = 597.49\n",
      "Iteration #540: W_new = [11.10416667 10.60416667], MSE = 597.49\n",
      "Iteration #550: W_new = [11.10416667 10.60416667], MSE = 597.49\n",
      "Iteration #560: W_new = [11.10416667 10.60416667], MSE = 597.49\n",
      "Iteration #570: W_new = [11.10416667 10.60416667], MSE = 597.49\n",
      "Iteration #580: W_new = [11.10416667 10.60416667], MSE = 597.49\n",
      "Iteration #590: W_new = [11.10416667 10.60416667], MSE = 597.49\n",
      "Iteration #600: W_new = [11.10416667 10.60416667], MSE = 597.49\n",
      "Iteration #610: W_new = [11.10416667 10.60416667], MSE = 597.49\n",
      "Iteration #620: W_new = [11.10416667 10.60416667], MSE = 597.49\n",
      "Iteration #630: W_new = [11.10416667 10.60416667], MSE = 597.49\n",
      "Iteration #640: W_new = [11.10416667 10.60416667], MSE = 597.49\n",
      "Iteration #650: W_new = [11.10416667 10.60416667], MSE = 597.49\n",
      "Iteration #660: W_new = [11.10416667 10.60416667], MSE = 597.49\n",
      "Iteration #670: W_new = [11.10416667 10.60416667], MSE = 597.49\n",
      "Iteration #680: W_new = [11.10416667 10.60416667], MSE = 597.49\n",
      "Iteration #690: W_new = [11.10416667 10.60416667], MSE = 597.49\n",
      "Iteration #700: W_new = [11.10416667 10.60416667], MSE = 597.49\n",
      "Iteration #710: W_new = [11.10416667 10.60416667], MSE = 597.49\n",
      "Iteration #720: W_new = [11.10416667 10.60416667], MSE = 597.49\n",
      "Iteration #730: W_new = [11.10416667 10.60416667], MSE = 597.49\n",
      "Iteration #740: W_new = [11.10416667 10.60416667], MSE = 597.49\n",
      "Iteration #750: W_new = [11.10416667 10.60416667], MSE = 597.49\n",
      "Iteration #760: W_new = [11.10416667 10.60416667], MSE = 597.49\n",
      "Iteration #770: W_new = [11.10416667 10.60416667], MSE = 597.49\n",
      "Iteration #780: W_new = [11.10416667 10.60416667], MSE = 597.49\n",
      "Iteration #790: W_new = [11.10416667 10.60416667], MSE = 597.49\n",
      "Iteration #800: W_new = [11.10416667 10.60416667], MSE = 597.49\n",
      "Iteration #810: W_new = [11.10416667 10.60416667], MSE = 597.49\n",
      "Iteration #820: W_new = [11.10416667 10.60416667], MSE = 597.49\n",
      "Iteration #830: W_new = [11.10416667 10.60416667], MSE = 597.49\n",
      "Iteration #840: W_new = [11.10416667 10.60416667], MSE = 597.49\n",
      "Iteration #850: W_new = [11.10416667 10.60416667], MSE = 597.49\n",
      "Iteration #860: W_new = [11.10416667 10.60416667], MSE = 597.49\n",
      "Iteration #870: W_new = [11.10416667 10.60416667], MSE = 597.49\n",
      "Iteration #880: W_new = [11.10416667 10.60416667], MSE = 597.49\n",
      "Iteration #890: W_new = [11.10416667 10.60416667], MSE = 597.49\n",
      "Iteration #900: W_new = [11.10416667 10.60416667], MSE = 597.49\n",
      "Iteration #910: W_new = [11.10416667 10.60416667], MSE = 597.49\n",
      "Iteration #920: W_new = [11.10416667 10.60416667], MSE = 597.49\n",
      "Iteration #930: W_new = [11.10416667 10.60416667], MSE = 597.49\n",
      "Iteration #940: W_new = [11.10416667 10.60416667], MSE = 597.49\n",
      "Iteration #950: W_new = [11.10416667 10.60416667], MSE = 597.49\n",
      "Iteration #960: W_new = [11.10416667 10.60416667], MSE = 597.49\n",
      "Iteration #970: W_new = [11.10416667 10.60416667], MSE = 597.49\n",
      "Iteration #980: W_new = [11.10416667 10.60416667], MSE = 597.49\n",
      "Iteration #990: W_new = [11.10416667 10.60416667], MSE = 597.49\n",
      "Iteration #1000: W_new = [11.10416667 10.60416667], MSE = 597.49\n",
      "Iteration #1010: W_new = [11.10416667 10.60416667], MSE = 597.49\n",
      "Iteration #1020: W_new = [11.10416667 10.60416667], MSE = 597.49\n",
      "Iteration #1030: W_new = [11.10416667 10.60416667], MSE = 597.49\n",
      "Iteration #1040: W_new = [11.10416667 10.60416667], MSE = 597.49\n",
      "Iteration #1050: W_new = [11.10416667 10.60416667], MSE = 597.49\n",
      "Iteration #1060: W_new = [11.10416667 10.60416667], MSE = 597.49\n",
      "Iteration #1070: W_new = [11.10416667 10.60416667], MSE = 597.49\n",
      "Iteration #1080: W_new = [11.10416667 10.60416667], MSE = 597.49\n",
      "Iteration #1090: W_new = [11.10416667 10.60416667], MSE = 597.49\n",
      "Iteration #1100: W_new = [11.10416667 10.60416667], MSE = 597.49\n",
      "Iteration #1110: W_new = [11.10416667 10.60416667], MSE = 597.49\n",
      "Iteration #1120: W_new = [11.10416667 10.60416667], MSE = 597.49\n",
      "Iteration #1130: W_new = [11.10416667 10.60416667], MSE = 597.49\n",
      "Iteration #1140: W_new = [11.10416667 10.60416667], MSE = 597.49\n",
      "Iteration #1150: W_new = [11.10416667 10.60416667], MSE = 597.49\n",
      "Iteration #1160: W_new = [11.10416667 10.60416667], MSE = 597.49\n",
      "Iteration #1170: W_new = [11.10416667 10.60416667], MSE = 597.49\n",
      "Iteration #1180: W_new = [11.10416667 10.60416667], MSE = 597.49\n",
      "Iteration #1190: W_new = [11.10416667 10.60416667], MSE = 597.49\n",
      "Iteration #1200: W_new = [11.10416667 10.60416667], MSE = 597.49\n",
      "Iteration #1210: W_new = [11.10416667 10.60416667], MSE = 597.49\n",
      "Iteration #1220: W_new = [11.10416667 10.60416667], MSE = 597.49\n",
      "Iteration #1230: W_new = [11.10416667 10.60416667], MSE = 597.49\n",
      "Iteration #1240: W_new = [11.10416667 10.60416667], MSE = 597.49\n",
      "Iteration #1250: W_new = [11.10416667 10.60416667], MSE = 597.49\n",
      "Iteration #1260: W_new = [11.10416667 10.60416667], MSE = 597.49\n",
      "Iteration #1270: W_new = [11.10416667 10.60416667], MSE = 597.49\n",
      "Iteration #1280: W_new = [11.10416667 10.60416667], MSE = 597.49\n",
      "Iteration #1290: W_new = [11.10416667 10.60416667], MSE = 597.49\n",
      "Iteration #1300: W_new = [11.10416667 10.60416667], MSE = 597.49\n",
      "Iteration #1310: W_new = [11.10416667 10.60416667], MSE = 597.49\n",
      "Iteration #1320: W_new = [11.10416667 10.60416667], MSE = 597.49\n",
      "Iteration #1330: W_new = [11.10416667 10.60416667], MSE = 597.49\n",
      "Iteration #1340: W_new = [11.10416667 10.60416667], MSE = 597.49\n",
      "Iteration #1350: W_new = [11.10416667 10.60416667], MSE = 597.49\n",
      "Iteration #1360: W_new = [11.10416667 10.60416667], MSE = 597.49\n",
      "Iteration #1370: W_new = [11.10416667 10.60416667], MSE = 597.49\n",
      "Iteration #1380: W_new = [11.10416667 10.60416667], MSE = 597.49\n",
      "Iteration #1390: W_new = [11.10416667 10.60416667], MSE = 597.49\n",
      "Iteration #1400: W_new = [11.10416667 10.60416667], MSE = 597.49\n",
      "Iteration #1410: W_new = [11.10416667 10.60416667], MSE = 597.49\n",
      "Iteration #1420: W_new = [11.10416667 10.60416667], MSE = 597.49\n",
      "Iteration #1430: W_new = [11.10416667 10.60416667], MSE = 597.49\n",
      "Iteration #1440: W_new = [11.10416667 10.60416667], MSE = 597.49\n",
      "Iteration #1450: W_new = [11.10416667 10.60416667], MSE = 597.49\n",
      "Iteration #1460: W_new = [11.10416667 10.60416667], MSE = 597.49\n",
      "Iteration #1470: W_new = [11.10416667 10.60416667], MSE = 597.49\n",
      "Iteration #1480: W_new = [11.10416667 10.60416667], MSE = 597.49\n",
      "Iteration #1490: W_new = [11.10416667 10.60416667], MSE = 597.49\n",
      "Iteration #1500: W_new = [11.10416667 10.60416667], MSE = 597.49\n",
      "Iteration #1510: W_new = [11.10416667 10.60416667], MSE = 597.49\n",
      "Iteration #1520: W_new = [11.10416667 10.60416667], MSE = 597.49\n",
      "Iteration #1530: W_new = [11.10416667 10.60416667], MSE = 597.49\n",
      "Iteration #1540: W_new = [11.10416667 10.60416667], MSE = 597.49\n",
      "Iteration #1550: W_new = [11.10416667 10.60416667], MSE = 597.49\n",
      "Iteration #1560: W_new = [11.10416667 10.60416667], MSE = 597.49\n",
      "Iteration #1570: W_new = [11.10416667 10.60416667], MSE = 597.49\n",
      "Iteration #1580: W_new = [11.10416667 10.60416667], MSE = 597.49\n",
      "Iteration #1590: W_new = [11.10416667 10.60416667], MSE = 597.49\n",
      "Iteration #1600: W_new = [11.10416667 10.60416667], MSE = 597.49\n",
      "Iteration #1610: W_new = [11.10416667 10.60416667], MSE = 597.49\n",
      "Iteration #1620: W_new = [11.10416667 10.60416667], MSE = 597.49\n",
      "Iteration #1630: W_new = [11.10416667 10.60416667], MSE = 597.49\n",
      "Iteration #1640: W_new = [11.10416667 10.60416667], MSE = 597.49\n",
      "Iteration #1650: W_new = [11.10416667 10.60416667], MSE = 597.49\n"
     ]
    },
    {
     "name": "stdout",
     "output_type": "stream",
     "text": [
      "Iteration #1660: W_new = [11.10416667 10.60416667], MSE = 597.49\n",
      "Iteration #1670: W_new = [11.10416667 10.60416667], MSE = 597.49\n",
      "Iteration #1680: W_new = [11.10416667 10.60416667], MSE = 597.49\n",
      "Iteration #1690: W_new = [11.10416667 10.60416667], MSE = 597.49\n",
      "Iteration #1700: W_new = [11.10416667 10.60416667], MSE = 597.49\n",
      "Iteration #1710: W_new = [11.10416667 10.60416667], MSE = 597.49\n",
      "Iteration #1720: W_new = [11.10416667 10.60416667], MSE = 597.49\n",
      "Iteration #1730: W_new = [11.10416667 10.60416667], MSE = 597.49\n",
      "Iteration #1740: W_new = [11.10416667 10.60416667], MSE = 597.49\n",
      "Iteration #1750: W_new = [11.10416667 10.60416667], MSE = 597.49\n",
      "Iteration #1760: W_new = [11.10416667 10.60416667], MSE = 597.49\n",
      "Iteration #1770: W_new = [11.10416667 10.60416667], MSE = 597.49\n",
      "Iteration #1780: W_new = [11.10416667 10.60416667], MSE = 597.49\n",
      "Iteration #1790: W_new = [11.10416667 10.60416667], MSE = 597.49\n",
      "Iteration #1800: W_new = [11.10416667 10.60416667], MSE = 597.49\n",
      "Iteration #1810: W_new = [11.10416667 10.60416667], MSE = 597.49\n",
      "Iteration #1820: W_new = [11.10416667 10.60416667], MSE = 597.49\n",
      "Iteration #1830: W_new = [11.10416667 10.60416667], MSE = 597.49\n",
      "Iteration #1840: W_new = [11.10416667 10.60416667], MSE = 597.49\n",
      "Iteration #1850: W_new = [11.10416667 10.60416667], MSE = 597.49\n",
      "Iteration #1860: W_new = [11.10416667 10.60416667], MSE = 597.49\n",
      "Iteration #1870: W_new = [11.10416667 10.60416667], MSE = 597.49\n",
      "Iteration #1880: W_new = [11.10416667 10.60416667], MSE = 597.49\n",
      "Iteration #1890: W_new = [11.10416667 10.60416667], MSE = 597.49\n",
      "Iteration #1900: W_new = [11.10416667 10.60416667], MSE = 597.49\n",
      "Iteration #1910: W_new = [11.10416667 10.60416667], MSE = 597.49\n",
      "Iteration #1920: W_new = [11.10416667 10.60416667], MSE = 597.49\n",
      "Iteration #1930: W_new = [11.10416667 10.60416667], MSE = 597.49\n",
      "Iteration #1940: W_new = [11.10416667 10.60416667], MSE = 597.49\n",
      "Iteration #1950: W_new = [11.10416667 10.60416667], MSE = 597.49\n",
      "Iteration #1960: W_new = [11.10416667 10.60416667], MSE = 597.49\n",
      "Iteration #1970: W_new = [11.10416667 10.60416667], MSE = 597.49\n",
      "Iteration #1980: W_new = [11.10416667 10.60416667], MSE = 597.49\n",
      "Iteration #1990: W_new = [11.10416667 10.60416667], MSE = 597.49\n",
      "Iteration #2000: W_new = [11.10416667 10.60416667], MSE = 597.49\n",
      "Iteration #2010: W_new = [11.10416667 10.60416667], MSE = 597.49\n",
      "Iteration #2020: W_new = [11.10416667 10.60416667], MSE = 597.49\n",
      "Iteration #2030: W_new = [11.10416667 10.60416667], MSE = 597.49\n",
      "Iteration #2040: W_new = [11.10416667 10.60416667], MSE = 597.49\n",
      "Iteration #2050: W_new = [11.10416667 10.60416667], MSE = 597.49\n",
      "Iteration #2060: W_new = [11.10416667 10.60416667], MSE = 597.49\n",
      "Iteration #2070: W_new = [11.10416667 10.60416667], MSE = 597.49\n",
      "Iteration #2080: W_new = [11.10416667 10.60416667], MSE = 597.49\n",
      "Iteration #2090: W_new = [11.10416667 10.60416667], MSE = 597.49\n",
      "Iteration #2100: W_new = [11.10416667 10.60416667], MSE = 597.49\n",
      "Iteration #2110: W_new = [11.10416667 10.60416667], MSE = 597.49\n",
      "Iteration #2120: W_new = [11.10416667 10.60416667], MSE = 597.49\n",
      "Iteration #2130: W_new = [11.10416667 10.60416667], MSE = 597.49\n",
      "Iteration #2140: W_new = [11.10416667 10.60416667], MSE = 597.49\n",
      "Iteration #2150: W_new = [11.10416667 10.60416667], MSE = 597.49\n",
      "Iteration #2160: W_new = [11.10416667 10.60416667], MSE = 597.49\n",
      "Iteration #2170: W_new = [11.10416667 10.60416667], MSE = 597.49\n",
      "Iteration #2180: W_new = [11.10416667 10.60416667], MSE = 597.49\n",
      "Iteration #2190: W_new = [11.10416667 10.60416667], MSE = 597.49\n",
      "Iteration #2200: W_new = [11.10416667 10.60416667], MSE = 597.49\n",
      "Iteration #2210: W_new = [11.10416667 10.60416667], MSE = 597.49\n",
      "Iteration #2220: W_new = [11.10416667 10.60416667], MSE = 597.49\n",
      "Iteration #2230: W_new = [11.10416667 10.60416667], MSE = 597.49\n",
      "Iteration #2240: W_new = [11.10416667 10.60416667], MSE = 597.49\n",
      "Iteration #2250: W_new = [11.10416667 10.60416667], MSE = 597.49\n",
      "Iteration #2260: W_new = [11.10416667 10.60416667], MSE = 597.49\n",
      "Iteration #2270: W_new = [11.10416667 10.60416667], MSE = 597.49\n",
      "Iteration #2280: W_new = [11.10416667 10.60416667], MSE = 597.49\n",
      "Iteration #2290: W_new = [11.10416667 10.60416667], MSE = 597.49\n",
      "Iteration #2300: W_new = [11.10416667 10.60416667], MSE = 597.49\n",
      "Iteration #2310: W_new = [11.10416667 10.60416667], MSE = 597.49\n",
      "Iteration #2320: W_new = [11.10416667 10.60416667], MSE = 597.49\n",
      "Iteration #2330: W_new = [11.10416667 10.60416667], MSE = 597.49\n",
      "Iteration #2340: W_new = [11.10416667 10.60416667], MSE = 597.49\n",
      "Iteration #2350: W_new = [11.10416667 10.60416667], MSE = 597.49\n",
      "Iteration #2360: W_new = [11.10416667 10.60416667], MSE = 597.49\n",
      "Iteration #2370: W_new = [11.10416667 10.60416667], MSE = 597.49\n",
      "Iteration #2380: W_new = [11.10416667 10.60416667], MSE = 597.49\n",
      "Iteration #2390: W_new = [11.10416667 10.60416667], MSE = 597.49\n",
      "Iteration #2400: W_new = [11.10416667 10.60416667], MSE = 597.49\n",
      "Iteration #2410: W_new = [11.10416667 10.60416667], MSE = 597.49\n",
      "Iteration #2420: W_new = [11.10416667 10.60416667], MSE = 597.49\n",
      "Iteration #2430: W_new = [11.10416667 10.60416667], MSE = 597.49\n",
      "Iteration #2440: W_new = [11.10416667 10.60416667], MSE = 597.49\n",
      "Iteration #2450: W_new = [11.10416667 10.60416667], MSE = 597.49\n",
      "Iteration #2460: W_new = [11.10416667 10.60416667], MSE = 597.49\n",
      "Iteration #2470: W_new = [11.10416667 10.60416667], MSE = 597.49\n",
      "Iteration #2480: W_new = [11.10416667 10.60416667], MSE = 597.49\n",
      "Iteration #2490: W_new = [11.10416667 10.60416667], MSE = 597.49\n",
      "Iteration #2500: W_new = [11.10416667 10.60416667], MSE = 597.49\n",
      "Iteration #2510: W_new = [11.10416667 10.60416667], MSE = 597.49\n",
      "Iteration #2520: W_new = [11.10416667 10.60416667], MSE = 597.49\n",
      "Iteration #2530: W_new = [11.10416667 10.60416667], MSE = 597.49\n",
      "Iteration #2540: W_new = [11.10416667 10.60416667], MSE = 597.49\n",
      "Iteration #2550: W_new = [11.10416667 10.60416667], MSE = 597.49\n",
      "Iteration #2560: W_new = [11.10416667 10.60416667], MSE = 597.49\n",
      "Iteration #2570: W_new = [11.10416667 10.60416667], MSE = 597.49\n",
      "Iteration #2580: W_new = [11.10416667 10.60416667], MSE = 597.49\n",
      "Iteration #2590: W_new = [11.10416667 10.60416667], MSE = 597.49\n",
      "Iteration #2600: W_new = [11.10416667 10.60416667], MSE = 597.49\n",
      "Iteration #2610: W_new = [11.10416667 10.60416667], MSE = 597.49\n",
      "Iteration #2620: W_new = [11.10416667 10.60416667], MSE = 597.49\n",
      "Iteration #2630: W_new = [11.10416667 10.60416667], MSE = 597.49\n",
      "Iteration #2640: W_new = [11.10416667 10.60416667], MSE = 597.49\n",
      "Iteration #2650: W_new = [11.10416667 10.60416667], MSE = 597.49\n",
      "Iteration #2660: W_new = [11.10416667 10.60416667], MSE = 597.49\n",
      "Iteration #2670: W_new = [11.10416667 10.60416667], MSE = 597.49\n",
      "Iteration #2680: W_new = [11.10416667 10.60416667], MSE = 597.49\n",
      "Iteration #2690: W_new = [11.10416667 10.60416667], MSE = 597.49\n",
      "Iteration #2700: W_new = [11.10416667 10.60416667], MSE = 597.49\n",
      "Iteration #2710: W_new = [11.10416667 10.60416667], MSE = 597.49\n",
      "Iteration #2720: W_new = [11.10416667 10.60416667], MSE = 597.49\n",
      "Iteration #2730: W_new = [11.10416667 10.60416667], MSE = 597.49\n",
      "Iteration #2740: W_new = [11.10416667 10.60416667], MSE = 597.49\n",
      "Iteration #2750: W_new = [11.10416667 10.60416667], MSE = 597.49\n",
      "Iteration #2760: W_new = [11.10416667 10.60416667], MSE = 597.49\n",
      "Iteration #2770: W_new = [11.10416667 10.60416667], MSE = 597.49\n",
      "Iteration #2780: W_new = [11.10416667 10.60416667], MSE = 597.49\n",
      "Iteration #2790: W_new = [11.10416667 10.60416667], MSE = 597.49\n",
      "Iteration #2800: W_new = [11.10416667 10.60416667], MSE = 597.49\n",
      "Iteration #2810: W_new = [11.10416667 10.60416667], MSE = 597.49\n",
      "Iteration #2820: W_new = [11.10416667 10.60416667], MSE = 597.49\n",
      "Iteration #2830: W_new = [11.10416667 10.60416667], MSE = 597.49\n",
      "Iteration #2840: W_new = [11.10416667 10.60416667], MSE = 597.49\n",
      "Iteration #2850: W_new = [11.10416667 10.60416667], MSE = 597.49\n",
      "Iteration #2860: W_new = [11.10416667 10.60416667], MSE = 597.49\n",
      "Iteration #2870: W_new = [11.10416667 10.60416667], MSE = 597.49\n",
      "Iteration #2880: W_new = [11.10416667 10.60416667], MSE = 597.49\n",
      "Iteration #2890: W_new = [11.10416667 10.60416667], MSE = 597.49\n",
      "Iteration #2900: W_new = [11.10416667 10.60416667], MSE = 597.49\n",
      "Iteration #2910: W_new = [11.10416667 10.60416667], MSE = 597.49\n",
      "Iteration #2920: W_new = [11.10416667 10.60416667], MSE = 597.49\n",
      "Iteration #2930: W_new = [11.10416667 10.60416667], MSE = 597.49\n",
      "Iteration #2940: W_new = [11.10416667 10.60416667], MSE = 597.49\n",
      "Iteration #2950: W_new = [11.10416667 10.60416667], MSE = 597.49\n",
      "Iteration #2960: W_new = [11.10416667 10.60416667], MSE = 597.49\n",
      "Iteration #2970: W_new = [11.10416667 10.60416667], MSE = 597.49\n",
      "Iteration #2980: W_new = [11.10416667 10.60416667], MSE = 597.49\n",
      "Iteration #2990: W_new = [11.10416667 10.60416667], MSE = 597.49\n"
     ]
    },
    {
     "name": "stdout",
     "output_type": "stream",
     "text": [
      "Iteration #3000: W_new = [11.10416667 10.60416667], MSE = 597.49\n",
      "Iteration #3010: W_new = [11.10416667 10.60416667], MSE = 597.49\n",
      "Iteration #3020: W_new = [11.10416667 10.60416667], MSE = 597.49\n",
      "Iteration #3030: W_new = [11.10416667 10.60416667], MSE = 597.49\n",
      "Iteration #3040: W_new = [11.10416667 10.60416667], MSE = 597.49\n",
      "Iteration #3050: W_new = [11.10416667 10.60416667], MSE = 597.49\n",
      "Iteration #3060: W_new = [11.10416667 10.60416667], MSE = 597.49\n",
      "Iteration #3070: W_new = [11.10416667 10.60416667], MSE = 597.49\n",
      "Iteration #3080: W_new = [11.10416667 10.60416667], MSE = 597.49\n",
      "Iteration #3090: W_new = [11.10416667 10.60416667], MSE = 597.49\n",
      "Iteration #3100: W_new = [11.10416667 10.60416667], MSE = 597.49\n",
      "Iteration #3110: W_new = [11.10416667 10.60416667], MSE = 597.49\n",
      "Iteration #3120: W_new = [11.10416667 10.60416667], MSE = 597.49\n",
      "Iteration #3130: W_new = [11.10416667 10.60416667], MSE = 597.49\n",
      "Iteration #3140: W_new = [11.10416667 10.60416667], MSE = 597.49\n",
      "Iteration #3150: W_new = [11.10416667 10.60416667], MSE = 597.49\n",
      "Iteration #3160: W_new = [11.10416667 10.60416667], MSE = 597.49\n",
      "Iteration #3170: W_new = [11.10416667 10.60416667], MSE = 597.49\n",
      "Iteration #3180: W_new = [11.10416667 10.60416667], MSE = 597.49\n",
      "Iteration #3190: W_new = [11.10416667 10.60416667], MSE = 597.49\n",
      "Iteration #3200: W_new = [11.10416667 10.60416667], MSE = 597.49\n",
      "Iteration #3210: W_new = [11.10416667 10.60416667], MSE = 597.49\n",
      "Iteration #3220: W_new = [11.10416667 10.60416667], MSE = 597.49\n",
      "Iteration #3230: W_new = [11.10416667 10.60416667], MSE = 597.49\n",
      "Iteration #3240: W_new = [11.10416667 10.60416667], MSE = 597.49\n",
      "Iteration #3250: W_new = [11.10416667 10.60416667], MSE = 597.49\n",
      "Iteration #3260: W_new = [11.10416667 10.60416667], MSE = 597.49\n",
      "Iteration #3270: W_new = [11.10416667 10.60416667], MSE = 597.49\n",
      "Iteration #3280: W_new = [11.10416667 10.60416667], MSE = 597.49\n",
      "Iteration #3290: W_new = [11.10416667 10.60416667], MSE = 597.49\n",
      "Iteration #3300: W_new = [11.10416667 10.60416667], MSE = 597.49\n",
      "Iteration #3310: W_new = [11.10416667 10.60416667], MSE = 597.49\n",
      "Iteration #3320: W_new = [11.10416667 10.60416667], MSE = 597.49\n",
      "Iteration #3330: W_new = [11.10416667 10.60416667], MSE = 597.49\n",
      "Iteration #3340: W_new = [11.10416667 10.60416667], MSE = 597.49\n",
      "Iteration #3350: W_new = [11.10416667 10.60416667], MSE = 597.49\n",
      "Iteration #3360: W_new = [11.10416667 10.60416667], MSE = 597.49\n",
      "Iteration #3370: W_new = [11.10416667 10.60416667], MSE = 597.49\n",
      "Iteration #3380: W_new = [11.10416667 10.60416667], MSE = 597.49\n",
      "Iteration #3390: W_new = [11.10416667 10.60416667], MSE = 597.49\n",
      "Iteration #3400: W_new = [11.10416667 10.60416667], MSE = 597.49\n",
      "Iteration #3410: W_new = [11.10416667 10.60416667], MSE = 597.49\n",
      "Iteration #3420: W_new = [11.10416667 10.60416667], MSE = 597.49\n",
      "Iteration #3430: W_new = [11.10416667 10.60416667], MSE = 597.49\n",
      "Iteration #3440: W_new = [11.10416667 10.60416667], MSE = 597.49\n",
      "Iteration #3450: W_new = [11.10416667 10.60416667], MSE = 597.49\n",
      "Iteration #3460: W_new = [11.10416667 10.60416667], MSE = 597.49\n",
      "Iteration #3470: W_new = [11.10416667 10.60416667], MSE = 597.49\n",
      "Iteration #3480: W_new = [11.10416667 10.60416667], MSE = 597.49\n",
      "Iteration #3490: W_new = [11.10416667 10.60416667], MSE = 597.49\n",
      "Iteration #3500: W_new = [11.10416667 10.60416667], MSE = 597.49\n",
      "Iteration #3510: W_new = [11.10416667 10.60416667], MSE = 597.49\n",
      "Iteration #3520: W_new = [11.10416667 10.60416667], MSE = 597.49\n",
      "Iteration #3530: W_new = [11.10416667 10.60416667], MSE = 597.49\n",
      "Iteration #3540: W_new = [11.10416667 10.60416667], MSE = 597.49\n",
      "Iteration #3550: W_new = [11.10416667 10.60416667], MSE = 597.49\n",
      "Iteration #3560: W_new = [11.10416667 10.60416667], MSE = 597.49\n",
      "Iteration #3570: W_new = [11.10416667 10.60416667], MSE = 597.49\n",
      "Iteration #3580: W_new = [11.10416667 10.60416667], MSE = 597.49\n",
      "Iteration #3590: W_new = [11.10416667 10.60416667], MSE = 597.49\n",
      "Iteration #3600: W_new = [11.10416667 10.60416667], MSE = 597.49\n",
      "Iteration #3610: W_new = [11.10416667 10.60416667], MSE = 597.49\n",
      "Iteration #3620: W_new = [11.10416667 10.60416667], MSE = 597.49\n",
      "Iteration #3630: W_new = [11.10416667 10.60416667], MSE = 597.49\n",
      "Iteration #3640: W_new = [11.10416667 10.60416667], MSE = 597.49\n",
      "Iteration #3650: W_new = [11.10416667 10.60416667], MSE = 597.49\n",
      "Iteration #3660: W_new = [11.10416667 10.60416667], MSE = 597.49\n",
      "Iteration #3670: W_new = [11.10416667 10.60416667], MSE = 597.49\n",
      "Iteration #3680: W_new = [11.10416667 10.60416667], MSE = 597.49\n",
      "Iteration #3690: W_new = [11.10416667 10.60416667], MSE = 597.49\n",
      "Iteration #3700: W_new = [11.10416667 10.60416667], MSE = 597.49\n",
      "Iteration #3710: W_new = [11.10416667 10.60416667], MSE = 597.49\n",
      "Iteration #3720: W_new = [11.10416667 10.60416667], MSE = 597.49\n",
      "Iteration #3730: W_new = [11.10416667 10.60416667], MSE = 597.49\n",
      "Iteration #3740: W_new = [11.10416667 10.60416667], MSE = 597.49\n",
      "Iteration #3750: W_new = [11.10416667 10.60416667], MSE = 597.49\n",
      "Iteration #3760: W_new = [11.10416667 10.60416667], MSE = 597.49\n",
      "Iteration #3770: W_new = [11.10416667 10.60416667], MSE = 597.49\n",
      "Iteration #3780: W_new = [11.10416667 10.60416667], MSE = 597.49\n",
      "Iteration #3790: W_new = [11.10416667 10.60416667], MSE = 597.49\n",
      "Iteration #3800: W_new = [11.10416667 10.60416667], MSE = 597.49\n",
      "Iteration #3810: W_new = [11.10416667 10.60416667], MSE = 597.49\n",
      "Iteration #3820: W_new = [11.10416667 10.60416667], MSE = 597.49\n",
      "Iteration #3830: W_new = [11.10416667 10.60416667], MSE = 597.49\n",
      "Iteration #3840: W_new = [11.10416667 10.60416667], MSE = 597.49\n",
      "Iteration #3850: W_new = [11.10416667 10.60416667], MSE = 597.49\n",
      "Iteration #3860: W_new = [11.10416667 10.60416667], MSE = 597.49\n",
      "Iteration #3870: W_new = [11.10416667 10.60416667], MSE = 597.49\n",
      "Iteration #3880: W_new = [11.10416667 10.60416667], MSE = 597.49\n",
      "Iteration #3890: W_new = [11.10416667 10.60416667], MSE = 597.49\n",
      "Iteration #3900: W_new = [11.10416667 10.60416667], MSE = 597.49\n",
      "Iteration #3910: W_new = [11.10416667 10.60416667], MSE = 597.49\n",
      "Iteration #3920: W_new = [11.10416667 10.60416667], MSE = 597.49\n",
      "Iteration #3930: W_new = [11.10416667 10.60416667], MSE = 597.49\n",
      "Iteration #3940: W_new = [11.10416667 10.60416667], MSE = 597.49\n",
      "Iteration #3950: W_new = [11.10416667 10.60416667], MSE = 597.49\n",
      "Iteration #3960: W_new = [11.10416667 10.60416667], MSE = 597.49\n",
      "Iteration #3970: W_new = [11.10416667 10.60416667], MSE = 597.49\n",
      "Iteration #3980: W_new = [11.10416667 10.60416667], MSE = 597.49\n",
      "Iteration #3990: W_new = [11.10416667 10.60416667], MSE = 597.49\n",
      "Iteration #4000: W_new = [11.10416667 10.60416667], MSE = 597.49\n",
      "Iteration #4010: W_new = [11.10416667 10.60416667], MSE = 597.49\n",
      "Iteration #4020: W_new = [11.10416667 10.60416667], MSE = 597.49\n",
      "Iteration #4030: W_new = [11.10416667 10.60416667], MSE = 597.49\n",
      "Iteration #4040: W_new = [11.10416667 10.60416667], MSE = 597.49\n",
      "Iteration #4050: W_new = [11.10416667 10.60416667], MSE = 597.49\n",
      "Iteration #4060: W_new = [11.10416667 10.60416667], MSE = 597.49\n",
      "Iteration #4070: W_new = [11.10416667 10.60416667], MSE = 597.49\n",
      "Iteration #4080: W_new = [11.10416667 10.60416667], MSE = 597.49\n",
      "Iteration #4090: W_new = [11.10416667 10.60416667], MSE = 597.49\n",
      "Iteration #4100: W_new = [11.10416667 10.60416667], MSE = 597.49\n",
      "Iteration #4110: W_new = [11.10416667 10.60416667], MSE = 597.49\n",
      "Iteration #4120: W_new = [11.10416667 10.60416667], MSE = 597.49\n",
      "Iteration #4130: W_new = [11.10416667 10.60416667], MSE = 597.49\n",
      "Iteration #4140: W_new = [11.10416667 10.60416667], MSE = 597.49\n",
      "Iteration #4150: W_new = [11.10416667 10.60416667], MSE = 597.49\n",
      "Iteration #4160: W_new = [11.10416667 10.60416667], MSE = 597.49\n",
      "Iteration #4170: W_new = [11.10416667 10.60416667], MSE = 597.49\n",
      "Iteration #4180: W_new = [11.10416667 10.60416667], MSE = 597.49\n",
      "Iteration #4190: W_new = [11.10416667 10.60416667], MSE = 597.49\n",
      "Iteration #4200: W_new = [11.10416667 10.60416667], MSE = 597.49\n",
      "Iteration #4210: W_new = [11.10416667 10.60416667], MSE = 597.49\n",
      "Iteration #4220: W_new = [11.10416667 10.60416667], MSE = 597.49\n",
      "Iteration #4230: W_new = [11.10416667 10.60416667], MSE = 597.49\n",
      "Iteration #4240: W_new = [11.10416667 10.60416667], MSE = 597.49\n",
      "Iteration #4250: W_new = [11.10416667 10.60416667], MSE = 597.49\n",
      "Iteration #4260: W_new = [11.10416667 10.60416667], MSE = 597.49\n",
      "Iteration #4270: W_new = [11.10416667 10.60416667], MSE = 597.49\n",
      "Iteration #4280: W_new = [11.10416667 10.60416667], MSE = 597.49\n",
      "Iteration #4290: W_new = [11.10416667 10.60416667], MSE = 597.49\n",
      "Iteration #4300: W_new = [11.10416667 10.60416667], MSE = 597.49\n",
      "Iteration #4310: W_new = [11.10416667 10.60416667], MSE = 597.49\n",
      "Iteration #4320: W_new = [11.10416667 10.60416667], MSE = 597.49\n",
      "Iteration #4330: W_new = [11.10416667 10.60416667], MSE = 597.49\n",
      "Iteration #4340: W_new = [11.10416667 10.60416667], MSE = 597.49\n",
      "Iteration #4350: W_new = [11.10416667 10.60416667], MSE = 597.49\n",
      "Iteration #4360: W_new = [11.10416667 10.60416667], MSE = 597.49\n",
      "Iteration #4370: W_new = [11.10416667 10.60416667], MSE = 597.49\n",
      "Iteration #4380: W_new = [11.10416667 10.60416667], MSE = 597.49\n",
      "Iteration #4390: W_new = [11.10416667 10.60416667], MSE = 597.49\n",
      "Iteration #4400: W_new = [11.10416667 10.60416667], MSE = 597.49\n",
      "Iteration #4410: W_new = [11.10416667 10.60416667], MSE = 597.49\n",
      "Iteration #4420: W_new = [11.10416667 10.60416667], MSE = 597.49\n",
      "Iteration #4430: W_new = [11.10416667 10.60416667], MSE = 597.49\n",
      "Iteration #4440: W_new = [11.10416667 10.60416667], MSE = 597.49\n",
      "Iteration #4450: W_new = [11.10416667 10.60416667], MSE = 597.49\n",
      "Iteration #4460: W_new = [11.10416667 10.60416667], MSE = 597.49\n"
     ]
    },
    {
     "name": "stdout",
     "output_type": "stream",
     "text": [
      "Iteration #4470: W_new = [11.10416667 10.60416667], MSE = 597.49\n",
      "Iteration #4480: W_new = [11.10416667 10.60416667], MSE = 597.49\n",
      "Iteration #4490: W_new = [11.10416667 10.60416667], MSE = 597.49\n",
      "Iteration #4500: W_new = [11.10416667 10.60416667], MSE = 597.49\n",
      "Iteration #4510: W_new = [11.10416667 10.60416667], MSE = 597.49\n",
      "Iteration #4520: W_new = [11.10416667 10.60416667], MSE = 597.49\n",
      "Iteration #4530: W_new = [11.10416667 10.60416667], MSE = 597.49\n",
      "Iteration #4540: W_new = [11.10416667 10.60416667], MSE = 597.49\n",
      "Iteration #4550: W_new = [11.10416667 10.60416667], MSE = 597.49\n",
      "Iteration #4560: W_new = [11.10416667 10.60416667], MSE = 597.49\n",
      "Iteration #4570: W_new = [11.10416667 10.60416667], MSE = 597.49\n",
      "Iteration #4580: W_new = [11.10416667 10.60416667], MSE = 597.49\n",
      "Iteration #4590: W_new = [11.10416667 10.60416667], MSE = 597.49\n",
      "Iteration #4600: W_new = [11.10416667 10.60416667], MSE = 597.49\n",
      "Iteration #4610: W_new = [11.10416667 10.60416667], MSE = 597.49\n",
      "Iteration #4620: W_new = [11.10416667 10.60416667], MSE = 597.49\n",
      "Iteration #4630: W_new = [11.10416667 10.60416667], MSE = 597.49\n",
      "Iteration #4640: W_new = [11.10416667 10.60416667], MSE = 597.49\n",
      "Iteration #4650: W_new = [11.10416667 10.60416667], MSE = 597.49\n",
      "Iteration #4660: W_new = [11.10416667 10.60416667], MSE = 597.49\n",
      "Iteration #4670: W_new = [11.10416667 10.60416667], MSE = 597.49\n",
      "Iteration #4680: W_new = [11.10416667 10.60416667], MSE = 597.49\n",
      "Iteration #4690: W_new = [11.10416667 10.60416667], MSE = 597.49\n",
      "Iteration #4700: W_new = [11.10416667 10.60416667], MSE = 597.49\n",
      "Iteration #4710: W_new = [11.10416667 10.60416667], MSE = 597.49\n",
      "Iteration #4720: W_new = [11.10416667 10.60416667], MSE = 597.49\n",
      "Iteration #4730: W_new = [11.10416667 10.60416667], MSE = 597.49\n",
      "Iteration #4740: W_new = [11.10416667 10.60416667], MSE = 597.49\n",
      "Iteration #4750: W_new = [11.10416667 10.60416667], MSE = 597.49\n",
      "Iteration #4760: W_new = [11.10416667 10.60416667], MSE = 597.49\n",
      "Iteration #4770: W_new = [11.10416667 10.60416667], MSE = 597.49\n",
      "Iteration #4780: W_new = [11.10416667 10.60416667], MSE = 597.49\n",
      "Iteration #4790: W_new = [11.10416667 10.60416667], MSE = 597.49\n",
      "Iteration #4800: W_new = [11.10416667 10.60416667], MSE = 597.49\n",
      "Iteration #4810: W_new = [11.10416667 10.60416667], MSE = 597.49\n",
      "Iteration #4820: W_new = [11.10416667 10.60416667], MSE = 597.49\n",
      "Iteration #4830: W_new = [11.10416667 10.60416667], MSE = 597.49\n",
      "Iteration #4840: W_new = [11.10416667 10.60416667], MSE = 597.49\n",
      "Iteration #4850: W_new = [11.10416667 10.60416667], MSE = 597.49\n",
      "Iteration #4860: W_new = [11.10416667 10.60416667], MSE = 597.49\n",
      "Iteration #4870: W_new = [11.10416667 10.60416667], MSE = 597.49\n",
      "Iteration #4880: W_new = [11.10416667 10.60416667], MSE = 597.49\n",
      "Iteration #4890: W_new = [11.10416667 10.60416667], MSE = 597.49\n",
      "Iteration #4900: W_new = [11.10416667 10.60416667], MSE = 597.49\n",
      "Iteration #4910: W_new = [11.10416667 10.60416667], MSE = 597.49\n",
      "Iteration #4920: W_new = [11.10416667 10.60416667], MSE = 597.49\n",
      "Iteration #4930: W_new = [11.10416667 10.60416667], MSE = 597.49\n",
      "Iteration #4940: W_new = [11.10416667 10.60416667], MSE = 597.49\n",
      "Iteration #4950: W_new = [11.10416667 10.60416667], MSE = 597.49\n",
      "Iteration #4960: W_new = [11.10416667 10.60416667], MSE = 597.49\n",
      "Iteration #4970: W_new = [11.10416667 10.60416667], MSE = 597.49\n",
      "Iteration #4980: W_new = [11.10416667 10.60416667], MSE = 597.49\n",
      "Iteration #4990: W_new = [11.10416667 10.60416667], MSE = 597.49\n",
      "Iteration #5000: W_new = [11.10416667 10.60416667], MSE = 597.49\n",
      "Iteration #5010: W_new = [11.10416667 10.60416667], MSE = 597.49\n",
      "Iteration #5020: W_new = [11.10416667 10.60416667], MSE = 597.49\n",
      "Iteration #5030: W_new = [11.10416667 10.60416667], MSE = 597.49\n",
      "Iteration #5040: W_new = [11.10416667 10.60416667], MSE = 597.49\n",
      "Iteration #5050: W_new = [11.10416667 10.60416667], MSE = 597.49\n",
      "Iteration #5060: W_new = [11.10416667 10.60416667], MSE = 597.49\n",
      "Iteration #5070: W_new = [11.10416667 10.60416667], MSE = 597.49\n",
      "Iteration #5080: W_new = [11.10416667 10.60416667], MSE = 597.49\n",
      "Iteration #5090: W_new = [11.10416667 10.60416667], MSE = 597.49\n",
      "Iteration #5100: W_new = [11.10416667 10.60416667], MSE = 597.49\n",
      "Iteration #5110: W_new = [11.10416667 10.60416667], MSE = 597.49\n",
      "Iteration #5120: W_new = [11.10416667 10.60416667], MSE = 597.49\n",
      "Iteration #5130: W_new = [11.10416667 10.60416667], MSE = 597.49\n",
      "Iteration #5140: W_new = [11.10416667 10.60416667], MSE = 597.49\n",
      "Iteration #5150: W_new = [11.10416667 10.60416667], MSE = 597.49\n",
      "Iteration #5160: W_new = [11.10416667 10.60416667], MSE = 597.49\n",
      "Iteration #5170: W_new = [11.10416667 10.60416667], MSE = 597.49\n",
      "Iteration #5180: W_new = [11.10416667 10.60416667], MSE = 597.49\n",
      "Iteration #5190: W_new = [11.10416667 10.60416667], MSE = 597.49\n",
      "Iteration #5200: W_new = [11.10416667 10.60416667], MSE = 597.49\n",
      "Iteration #5210: W_new = [11.10416667 10.60416667], MSE = 597.49\n",
      "Iteration #5220: W_new = [11.10416667 10.60416667], MSE = 597.49\n",
      "Iteration #5230: W_new = [11.10416667 10.60416667], MSE = 597.49\n",
      "Iteration #5240: W_new = [11.10416667 10.60416667], MSE = 597.49\n",
      "Iteration #5250: W_new = [11.10416667 10.60416667], MSE = 597.49\n",
      "Iteration #5260: W_new = [11.10416667 10.60416667], MSE = 597.49\n",
      "Iteration #5270: W_new = [11.10416667 10.60416667], MSE = 597.49\n",
      "Iteration #5280: W_new = [11.10416667 10.60416667], MSE = 597.49\n",
      "Iteration #5290: W_new = [11.10416667 10.60416667], MSE = 597.49\n",
      "Iteration #5300: W_new = [11.10416667 10.60416667], MSE = 597.49\n",
      "Iteration #5310: W_new = [11.10416667 10.60416667], MSE = 597.49\n",
      "Iteration #5320: W_new = [11.10416667 10.60416667], MSE = 597.49\n",
      "Iteration #5330: W_new = [11.10416667 10.60416667], MSE = 597.49\n",
      "Iteration #5340: W_new = [11.10416667 10.60416667], MSE = 597.49\n",
      "Iteration #5350: W_new = [11.10416667 10.60416667], MSE = 597.49\n",
      "Iteration #5360: W_new = [11.10416667 10.60416667], MSE = 597.49\n",
      "Iteration #5370: W_new = [11.10416667 10.60416667], MSE = 597.49\n",
      "Iteration #5380: W_new = [11.10416667 10.60416667], MSE = 597.49\n",
      "Iteration #5390: W_new = [11.10416667 10.60416667], MSE = 597.49\n",
      "Iteration #5400: W_new = [11.10416667 10.60416667], MSE = 597.49\n",
      "Iteration #5410: W_new = [11.10416667 10.60416667], MSE = 597.49\n",
      "Iteration #5420: W_new = [11.10416667 10.60416667], MSE = 597.49\n",
      "Iteration #5430: W_new = [11.10416667 10.60416667], MSE = 597.49\n",
      "Iteration #5440: W_new = [11.10416667 10.60416667], MSE = 597.49\n",
      "Iteration #5450: W_new = [11.10416667 10.60416667], MSE = 597.49\n",
      "Iteration #5460: W_new = [11.10416667 10.60416667], MSE = 597.49\n",
      "Iteration #5470: W_new = [11.10416667 10.60416667], MSE = 597.49\n",
      "Iteration #5480: W_new = [11.10416667 10.60416667], MSE = 597.49\n",
      "Iteration #5490: W_new = [11.10416667 10.60416667], MSE = 597.49\n",
      "Iteration #5500: W_new = [11.10416667 10.60416667], MSE = 597.49\n",
      "Iteration #5510: W_new = [11.10416667 10.60416667], MSE = 597.49\n",
      "Iteration #5520: W_new = [11.10416667 10.60416667], MSE = 597.49\n",
      "Iteration #5530: W_new = [11.10416667 10.60416667], MSE = 597.49\n",
      "Iteration #5540: W_new = [11.10416667 10.60416667], MSE = 597.49\n",
      "Iteration #5550: W_new = [11.10416667 10.60416667], MSE = 597.49\n",
      "Iteration #5560: W_new = [11.10416667 10.60416667], MSE = 597.49\n",
      "Iteration #5570: W_new = [11.10416667 10.60416667], MSE = 597.49\n",
      "Iteration #5580: W_new = [11.10416667 10.60416667], MSE = 597.49\n",
      "Iteration #5590: W_new = [11.10416667 10.60416667], MSE = 597.49\n",
      "Iteration #5600: W_new = [11.10416667 10.60416667], MSE = 597.49\n",
      "Iteration #5610: W_new = [11.10416667 10.60416667], MSE = 597.49\n",
      "Iteration #5620: W_new = [11.10416667 10.60416667], MSE = 597.49\n",
      "Iteration #5630: W_new = [11.10416667 10.60416667], MSE = 597.49\n",
      "Iteration #5640: W_new = [11.10416667 10.60416667], MSE = 597.49\n",
      "Iteration #5650: W_new = [11.10416667 10.60416667], MSE = 597.49\n",
      "Iteration #5660: W_new = [11.10416667 10.60416667], MSE = 597.49\n",
      "Iteration #5670: W_new = [11.10416667 10.60416667], MSE = 597.49\n",
      "Iteration #5680: W_new = [11.10416667 10.60416667], MSE = 597.49\n",
      "Iteration #5690: W_new = [11.10416667 10.60416667], MSE = 597.49\n",
      "Iteration #5700: W_new = [11.10416667 10.60416667], MSE = 597.49\n",
      "Iteration #5710: W_new = [11.10416667 10.60416667], MSE = 597.49\n",
      "Iteration #5720: W_new = [11.10416667 10.60416667], MSE = 597.49\n",
      "Iteration #5730: W_new = [11.10416667 10.60416667], MSE = 597.49\n",
      "Iteration #5740: W_new = [11.10416667 10.60416667], MSE = 597.49\n",
      "Iteration #5750: W_new = [11.10416667 10.60416667], MSE = 597.49\n",
      "Iteration #5760: W_new = [11.10416667 10.60416667], MSE = 597.49\n",
      "Iteration #5770: W_new = [11.10416667 10.60416667], MSE = 597.49\n",
      "Iteration #5780: W_new = [11.10416667 10.60416667], MSE = 597.49\n",
      "Iteration #5790: W_new = [11.10416667 10.60416667], MSE = 597.49\n",
      "Iteration #5800: W_new = [11.10416667 10.60416667], MSE = 597.49\n",
      "Iteration #5810: W_new = [11.10416667 10.60416667], MSE = 597.49\n",
      "Iteration #5820: W_new = [11.10416667 10.60416667], MSE = 597.49\n",
      "Iteration #5830: W_new = [11.10416667 10.60416667], MSE = 597.49\n",
      "Iteration #5840: W_new = [11.10416667 10.60416667], MSE = 597.49\n",
      "Iteration #5850: W_new = [11.10416667 10.60416667], MSE = 597.49\n",
      "Iteration #5860: W_new = [11.10416667 10.60416667], MSE = 597.49\n",
      "Iteration #5870: W_new = [11.10416667 10.60416667], MSE = 597.49\n",
      "Iteration #5880: W_new = [11.10416667 10.60416667], MSE = 597.49\n",
      "Iteration #5890: W_new = [11.10416667 10.60416667], MSE = 597.49\n",
      "Iteration #5900: W_new = [11.10416667 10.60416667], MSE = 597.49\n",
      "Iteration #5910: W_new = [11.10416667 10.60416667], MSE = 597.49\n",
      "Iteration #5920: W_new = [11.10416667 10.60416667], MSE = 597.49\n",
      "Iteration #5930: W_new = [11.10416667 10.60416667], MSE = 597.49\n",
      "Iteration #5940: W_new = [11.10416667 10.60416667], MSE = 597.49\n",
      "Iteration #5950: W_new = [11.10416667 10.60416667], MSE = 597.49\n",
      "Iteration #5960: W_new = [11.10416667 10.60416667], MSE = 597.49\n",
      "Iteration #5970: W_new = [11.10416667 10.60416667], MSE = 597.49\n"
     ]
    },
    {
     "name": "stdout",
     "output_type": "stream",
     "text": [
      "Iteration #5980: W_new = [11.10416667 10.60416667], MSE = 597.49\n",
      "Iteration #5990: W_new = [11.10416667 10.60416667], MSE = 597.49\n",
      "Iteration #6000: W_new = [11.10416667 10.60416667], MSE = 597.49\n",
      "Iteration #6010: W_new = [11.10416667 10.60416667], MSE = 597.49\n",
      "Iteration #6020: W_new = [11.10416667 10.60416667], MSE = 597.49\n",
      "Iteration #6030: W_new = [11.10416667 10.60416667], MSE = 597.49\n",
      "Iteration #6040: W_new = [11.10416667 10.60416667], MSE = 597.49\n",
      "Iteration #6050: W_new = [11.10416667 10.60416667], MSE = 597.49\n",
      "Iteration #6060: W_new = [11.10416667 10.60416667], MSE = 597.49\n",
      "Iteration #6070: W_new = [11.10416667 10.60416667], MSE = 597.49\n",
      "Iteration #6080: W_new = [11.10416667 10.60416667], MSE = 597.49\n",
      "Iteration #6090: W_new = [11.10416667 10.60416667], MSE = 597.49\n",
      "Iteration #6100: W_new = [11.10416667 10.60416667], MSE = 597.49\n",
      "Iteration #6110: W_new = [11.10416667 10.60416667], MSE = 597.49\n",
      "Iteration #6120: W_new = [11.10416667 10.60416667], MSE = 597.49\n",
      "Iteration #6130: W_new = [11.10416667 10.60416667], MSE = 597.49\n",
      "Iteration #6140: W_new = [11.10416667 10.60416667], MSE = 597.49\n",
      "Iteration #6150: W_new = [11.10416667 10.60416667], MSE = 597.49\n",
      "Iteration #6160: W_new = [11.10416667 10.60416667], MSE = 597.49\n",
      "Iteration #6170: W_new = [11.10416667 10.60416667], MSE = 597.49\n",
      "Iteration #6180: W_new = [11.10416667 10.60416667], MSE = 597.49\n",
      "Iteration #6190: W_new = [11.10416667 10.60416667], MSE = 597.49\n",
      "Iteration #6200: W_new = [11.10416667 10.60416667], MSE = 597.49\n",
      "Iteration #6210: W_new = [11.10416667 10.60416667], MSE = 597.49\n",
      "Iteration #6220: W_new = [11.10416667 10.60416667], MSE = 597.49\n",
      "Iteration #6230: W_new = [11.10416667 10.60416667], MSE = 597.49\n",
      "Iteration #6240: W_new = [11.10416667 10.60416667], MSE = 597.49\n",
      "Iteration #6250: W_new = [11.10416667 10.60416667], MSE = 597.49\n",
      "Iteration #6260: W_new = [11.10416667 10.60416667], MSE = 597.49\n",
      "Iteration #6270: W_new = [11.10416667 10.60416667], MSE = 597.49\n",
      "Iteration #6280: W_new = [11.10416667 10.60416667], MSE = 597.49\n",
      "Iteration #6290: W_new = [11.10416667 10.60416667], MSE = 597.49\n",
      "Iteration #6300: W_new = [11.10416667 10.60416667], MSE = 597.49\n",
      "Iteration #6310: W_new = [11.10416667 10.60416667], MSE = 597.49\n",
      "Iteration #6320: W_new = [11.10416667 10.60416667], MSE = 597.49\n",
      "Iteration #6330: W_new = [11.10416667 10.60416667], MSE = 597.49\n",
      "Iteration #6340: W_new = [11.10416667 10.60416667], MSE = 597.49\n",
      "Iteration #6350: W_new = [11.10416667 10.60416667], MSE = 597.49\n",
      "Iteration #6360: W_new = [11.10416667 10.60416667], MSE = 597.49\n",
      "Iteration #6370: W_new = [11.10416667 10.60416667], MSE = 597.49\n",
      "Iteration #6380: W_new = [11.10416667 10.60416667], MSE = 597.49\n",
      "Iteration #6390: W_new = [11.10416667 10.60416667], MSE = 597.49\n",
      "Iteration #6400: W_new = [11.10416667 10.60416667], MSE = 597.49\n",
      "Iteration #6410: W_new = [11.10416667 10.60416667], MSE = 597.49\n",
      "Iteration #6420: W_new = [11.10416667 10.60416667], MSE = 597.49\n",
      "Iteration #6430: W_new = [11.10416667 10.60416667], MSE = 597.49\n",
      "Iteration #6440: W_new = [11.10416667 10.60416667], MSE = 597.49\n",
      "Iteration #6450: W_new = [11.10416667 10.60416667], MSE = 597.49\n",
      "Iteration #6460: W_new = [11.10416667 10.60416667], MSE = 597.49\n",
      "Iteration #6470: W_new = [11.10416667 10.60416667], MSE = 597.49\n",
      "Iteration #6480: W_new = [11.10416667 10.60416667], MSE = 597.49\n",
      "Iteration #6490: W_new = [11.10416667 10.60416667], MSE = 597.49\n",
      "Iteration #6500: W_new = [11.10416667 10.60416667], MSE = 597.49\n",
      "Iteration #6510: W_new = [11.10416667 10.60416667], MSE = 597.49\n",
      "Iteration #6520: W_new = [11.10416667 10.60416667], MSE = 597.49\n",
      "Iteration #6530: W_new = [11.10416667 10.60416667], MSE = 597.49\n",
      "Iteration #6540: W_new = [11.10416667 10.60416667], MSE = 597.49\n",
      "Iteration #6550: W_new = [11.10416667 10.60416667], MSE = 597.49\n",
      "Iteration #6560: W_new = [11.10416667 10.60416667], MSE = 597.49\n",
      "Iteration #6570: W_new = [11.10416667 10.60416667], MSE = 597.49\n",
      "Iteration #6580: W_new = [11.10416667 10.60416667], MSE = 597.49\n",
      "Iteration #6590: W_new = [11.10416667 10.60416667], MSE = 597.49\n",
      "Iteration #6600: W_new = [11.10416667 10.60416667], MSE = 597.49\n",
      "Iteration #6610: W_new = [11.10416667 10.60416667], MSE = 597.49\n",
      "Iteration #6620: W_new = [11.10416667 10.60416667], MSE = 597.49\n",
      "Iteration #6630: W_new = [11.10416667 10.60416667], MSE = 597.49\n",
      "Iteration #6640: W_new = [11.10416667 10.60416667], MSE = 597.49\n",
      "Iteration #6650: W_new = [11.10416667 10.60416667], MSE = 597.49\n",
      "Iteration #6660: W_new = [11.10416667 10.60416667], MSE = 597.49\n",
      "Iteration #6670: W_new = [11.10416667 10.60416667], MSE = 597.49\n",
      "Iteration #6680: W_new = [11.10416667 10.60416667], MSE = 597.49\n",
      "Iteration #6690: W_new = [11.10416667 10.60416667], MSE = 597.49\n",
      "Iteration #6700: W_new = [11.10416667 10.60416667], MSE = 597.49\n",
      "Iteration #6710: W_new = [11.10416667 10.60416667], MSE = 597.49\n",
      "Iteration #6720: W_new = [11.10416667 10.60416667], MSE = 597.49\n",
      "Iteration #6730: W_new = [11.10416667 10.60416667], MSE = 597.49\n",
      "Iteration #6740: W_new = [11.10416667 10.60416667], MSE = 597.49\n",
      "Iteration #6750: W_new = [11.10416667 10.60416667], MSE = 597.49\n",
      "Iteration #6760: W_new = [11.10416667 10.60416667], MSE = 597.49\n",
      "Iteration #6770: W_new = [11.10416667 10.60416667], MSE = 597.49\n",
      "Iteration #6780: W_new = [11.10416667 10.60416667], MSE = 597.49\n",
      "Iteration #6790: W_new = [11.10416667 10.60416667], MSE = 597.49\n",
      "Iteration #6800: W_new = [11.10416667 10.60416667], MSE = 597.49\n",
      "Iteration #6810: W_new = [11.10416667 10.60416667], MSE = 597.49\n",
      "Iteration #6820: W_new = [11.10416667 10.60416667], MSE = 597.49\n",
      "Iteration #6830: W_new = [11.10416667 10.60416667], MSE = 597.49\n",
      "Iteration #6840: W_new = [11.10416667 10.60416667], MSE = 597.49\n",
      "Iteration #6850: W_new = [11.10416667 10.60416667], MSE = 597.49\n",
      "Iteration #6860: W_new = [11.10416667 10.60416667], MSE = 597.49\n",
      "Iteration #6870: W_new = [11.10416667 10.60416667], MSE = 597.49\n",
      "Iteration #6880: W_new = [11.10416667 10.60416667], MSE = 597.49\n",
      "Iteration #6890: W_new = [11.10416667 10.60416667], MSE = 597.49\n",
      "Iteration #6900: W_new = [11.10416667 10.60416667], MSE = 597.49\n",
      "Iteration #6910: W_new = [11.10416667 10.60416667], MSE = 597.49\n",
      "Iteration #6920: W_new = [11.10416667 10.60416667], MSE = 597.49\n",
      "Iteration #6930: W_new = [11.10416667 10.60416667], MSE = 597.49\n",
      "Iteration #6940: W_new = [11.10416667 10.60416667], MSE = 597.49\n",
      "Iteration #6950: W_new = [11.10416667 10.60416667], MSE = 597.49\n",
      "Iteration #6960: W_new = [11.10416667 10.60416667], MSE = 597.49\n",
      "Iteration #6970: W_new = [11.10416667 10.60416667], MSE = 597.49\n",
      "Iteration #6980: W_new = [11.10416667 10.60416667], MSE = 597.49\n",
      "Iteration #6990: W_new = [11.10416667 10.60416667], MSE = 597.49\n",
      "Iteration #7000: W_new = [11.10416667 10.60416667], MSE = 597.49\n",
      "Iteration #7010: W_new = [11.10416667 10.60416667], MSE = 597.49\n",
      "Iteration #7020: W_new = [11.10416667 10.60416667], MSE = 597.49\n",
      "Iteration #7030: W_new = [11.10416667 10.60416667], MSE = 597.49\n",
      "Iteration #7040: W_new = [11.10416667 10.60416667], MSE = 597.49\n",
      "Iteration #7050: W_new = [11.10416667 10.60416667], MSE = 597.49\n",
      "Iteration #7060: W_new = [11.10416667 10.60416667], MSE = 597.49\n",
      "Iteration #7070: W_new = [11.10416667 10.60416667], MSE = 597.49\n",
      "Iteration #7080: W_new = [11.10416667 10.60416667], MSE = 597.49\n",
      "Iteration #7090: W_new = [11.10416667 10.60416667], MSE = 597.49\n",
      "Iteration #7100: W_new = [11.10416667 10.60416667], MSE = 597.49\n",
      "Iteration #7110: W_new = [11.10416667 10.60416667], MSE = 597.49\n",
      "Iteration #7120: W_new = [11.10416667 10.60416667], MSE = 597.49\n",
      "Iteration #7130: W_new = [11.10416667 10.60416667], MSE = 597.49\n",
      "Iteration #7140: W_new = [11.10416667 10.60416667], MSE = 597.49\n",
      "Iteration #7150: W_new = [11.10416667 10.60416667], MSE = 597.49\n",
      "Iteration #7160: W_new = [11.10416667 10.60416667], MSE = 597.49\n",
      "Iteration #7170: W_new = [11.10416667 10.60416667], MSE = 597.49\n",
      "Iteration #7180: W_new = [11.10416667 10.60416667], MSE = 597.49\n",
      "Iteration #7190: W_new = [11.10416667 10.60416667], MSE = 597.49\n",
      "Iteration #7200: W_new = [11.10416667 10.60416667], MSE = 597.49\n",
      "Iteration #7210: W_new = [11.10416667 10.60416667], MSE = 597.49\n",
      "Iteration #7220: W_new = [11.10416667 10.60416667], MSE = 597.49\n",
      "Iteration #7230: W_new = [11.10416667 10.60416667], MSE = 597.49\n",
      "Iteration #7240: W_new = [11.10416667 10.60416667], MSE = 597.49\n",
      "Iteration #7250: W_new = [11.10416667 10.60416667], MSE = 597.49\n",
      "Iteration #7260: W_new = [11.10416667 10.60416667], MSE = 597.49\n",
      "Iteration #7270: W_new = [11.10416667 10.60416667], MSE = 597.49\n",
      "Iteration #7280: W_new = [11.10416667 10.60416667], MSE = 597.49\n",
      "Iteration #7290: W_new = [11.10416667 10.60416667], MSE = 597.49\n",
      "Iteration #7300: W_new = [11.10416667 10.60416667], MSE = 597.49\n",
      "Iteration #7310: W_new = [11.10416667 10.60416667], MSE = 597.49\n",
      "Iteration #7320: W_new = [11.10416667 10.60416667], MSE = 597.49\n",
      "Iteration #7330: W_new = [11.10416667 10.60416667], MSE = 597.49\n",
      "Iteration #7340: W_new = [11.10416667 10.60416667], MSE = 597.49\n",
      "Iteration #7350: W_new = [11.10416667 10.60416667], MSE = 597.49\n"
     ]
    },
    {
     "name": "stdout",
     "output_type": "stream",
     "text": [
      "Iteration #7360: W_new = [11.10416667 10.60416667], MSE = 597.49\n",
      "Iteration #7370: W_new = [11.10416667 10.60416667], MSE = 597.49\n",
      "Iteration #7380: W_new = [11.10416667 10.60416667], MSE = 597.49\n",
      "Iteration #7390: W_new = [11.10416667 10.60416667], MSE = 597.49\n",
      "Iteration #7400: W_new = [11.10416667 10.60416667], MSE = 597.49\n",
      "Iteration #7410: W_new = [11.10416667 10.60416667], MSE = 597.49\n",
      "Iteration #7420: W_new = [11.10416667 10.60416667], MSE = 597.49\n",
      "Iteration #7430: W_new = [11.10416667 10.60416667], MSE = 597.49\n",
      "Iteration #7440: W_new = [11.10416667 10.60416667], MSE = 597.49\n",
      "Iteration #7450: W_new = [11.10416667 10.60416667], MSE = 597.49\n",
      "Iteration #7460: W_new = [11.10416667 10.60416667], MSE = 597.49\n",
      "Iteration #7470: W_new = [11.10416667 10.60416667], MSE = 597.49\n",
      "Iteration #7480: W_new = [11.10416667 10.60416667], MSE = 597.49\n",
      "Iteration #7490: W_new = [11.10416667 10.60416667], MSE = 597.49\n",
      "Iteration #7500: W_new = [11.10416667 10.60416667], MSE = 597.49\n",
      "Iteration #7510: W_new = [11.10416667 10.60416667], MSE = 597.49\n",
      "Iteration #7520: W_new = [11.10416667 10.60416667], MSE = 597.49\n",
      "Iteration #7530: W_new = [11.10416667 10.60416667], MSE = 597.49\n",
      "Iteration #7540: W_new = [11.10416667 10.60416667], MSE = 597.49\n",
      "Iteration #7550: W_new = [11.10416667 10.60416667], MSE = 597.49\n",
      "Iteration #7560: W_new = [11.10416667 10.60416667], MSE = 597.49\n",
      "Iteration #7570: W_new = [11.10416667 10.60416667], MSE = 597.49\n",
      "Iteration #7580: W_new = [11.10416667 10.60416667], MSE = 597.49\n",
      "Iteration #7590: W_new = [11.10416667 10.60416667], MSE = 597.49\n",
      "Iteration #7600: W_new = [11.10416667 10.60416667], MSE = 597.49\n",
      "Iteration #7610: W_new = [11.10416667 10.60416667], MSE = 597.49\n",
      "Iteration #7620: W_new = [11.10416667 10.60416667], MSE = 597.49\n",
      "Iteration #7630: W_new = [11.10416667 10.60416667], MSE = 597.49\n",
      "Iteration #7640: W_new = [11.10416667 10.60416667], MSE = 597.49\n",
      "Iteration #7650: W_new = [11.10416667 10.60416667], MSE = 597.49\n",
      "Iteration #7660: W_new = [11.10416667 10.60416667], MSE = 597.49\n",
      "Iteration #7670: W_new = [11.10416667 10.60416667], MSE = 597.49\n",
      "Iteration #7680: W_new = [11.10416667 10.60416667], MSE = 597.49\n",
      "Iteration #7690: W_new = [11.10416667 10.60416667], MSE = 597.49\n",
      "Iteration #7700: W_new = [11.10416667 10.60416667], MSE = 597.49\n",
      "Iteration #7710: W_new = [11.10416667 10.60416667], MSE = 597.49\n",
      "Iteration #7720: W_new = [11.10416667 10.60416667], MSE = 597.49\n",
      "Iteration #7730: W_new = [11.10416667 10.60416667], MSE = 597.49\n",
      "Iteration #7740: W_new = [11.10416667 10.60416667], MSE = 597.49\n",
      "Iteration #7750: W_new = [11.10416667 10.60416667], MSE = 597.49\n",
      "Iteration #7760: W_new = [11.10416667 10.60416667], MSE = 597.49\n",
      "Iteration #7770: W_new = [11.10416667 10.60416667], MSE = 597.49\n",
      "Iteration #7780: W_new = [11.10416667 10.60416667], MSE = 597.49\n",
      "Iteration #7790: W_new = [11.10416667 10.60416667], MSE = 597.49\n",
      "Iteration #7800: W_new = [11.10416667 10.60416667], MSE = 597.49\n",
      "Iteration #7810: W_new = [11.10416667 10.60416667], MSE = 597.49\n",
      "Iteration #7820: W_new = [11.10416667 10.60416667], MSE = 597.49\n",
      "Iteration #7830: W_new = [11.10416667 10.60416667], MSE = 597.49\n",
      "Iteration #7840: W_new = [11.10416667 10.60416667], MSE = 597.49\n",
      "Iteration #7850: W_new = [11.10416667 10.60416667], MSE = 597.49\n",
      "Iteration #7860: W_new = [11.10416667 10.60416667], MSE = 597.49\n",
      "Iteration #7870: W_new = [11.10416667 10.60416667], MSE = 597.49\n",
      "Iteration #7880: W_new = [11.10416667 10.60416667], MSE = 597.49\n",
      "Iteration #7890: W_new = [11.10416667 10.60416667], MSE = 597.49\n",
      "Iteration #7900: W_new = [11.10416667 10.60416667], MSE = 597.49\n",
      "Iteration #7910: W_new = [11.10416667 10.60416667], MSE = 597.49\n",
      "Iteration #7920: W_new = [11.10416667 10.60416667], MSE = 597.49\n",
      "Iteration #7930: W_new = [11.10416667 10.60416667], MSE = 597.49\n",
      "Iteration #7940: W_new = [11.10416667 10.60416667], MSE = 597.49\n",
      "Iteration #7950: W_new = [11.10416667 10.60416667], MSE = 597.49\n",
      "Iteration #7960: W_new = [11.10416667 10.60416667], MSE = 597.49\n",
      "Iteration #7970: W_new = [11.10416667 10.60416667], MSE = 597.49\n",
      "Iteration #7980: W_new = [11.10416667 10.60416667], MSE = 597.49\n",
      "Iteration #7990: W_new = [11.10416667 10.60416667], MSE = 597.49\n",
      "Iteration #8000: W_new = [11.10416667 10.60416667], MSE = 597.49\n",
      "Iteration #8010: W_new = [11.10416667 10.60416667], MSE = 597.49\n",
      "Iteration #8020: W_new = [11.10416667 10.60416667], MSE = 597.49\n",
      "Iteration #8030: W_new = [11.10416667 10.60416667], MSE = 597.49\n",
      "Iteration #8040: W_new = [11.10416667 10.60416667], MSE = 597.49\n",
      "Iteration #8050: W_new = [11.10416667 10.60416667], MSE = 597.49\n",
      "Iteration #8060: W_new = [11.10416667 10.60416667], MSE = 597.49\n",
      "Iteration #8070: W_new = [11.10416667 10.60416667], MSE = 597.49\n",
      "Iteration #8080: W_new = [11.10416667 10.60416667], MSE = 597.49\n",
      "Iteration #8090: W_new = [11.10416667 10.60416667], MSE = 597.49\n",
      "Iteration #8100: W_new = [11.10416667 10.60416667], MSE = 597.49\n",
      "Iteration #8110: W_new = [11.10416667 10.60416667], MSE = 597.49\n",
      "Iteration #8120: W_new = [11.10416667 10.60416667], MSE = 597.49\n",
      "Iteration #8130: W_new = [11.10416667 10.60416667], MSE = 597.49\n",
      "Iteration #8140: W_new = [11.10416667 10.60416667], MSE = 597.49\n",
      "Iteration #8150: W_new = [11.10416667 10.60416667], MSE = 597.49\n",
      "Iteration #8160: W_new = [11.10416667 10.60416667], MSE = 597.49\n",
      "Iteration #8170: W_new = [11.10416667 10.60416667], MSE = 597.49\n",
      "Iteration #8180: W_new = [11.10416667 10.60416667], MSE = 597.49\n",
      "Iteration #8190: W_new = [11.10416667 10.60416667], MSE = 597.49\n",
      "Iteration #8200: W_new = [11.10416667 10.60416667], MSE = 597.49\n",
      "Iteration #8210: W_new = [11.10416667 10.60416667], MSE = 597.49\n",
      "Iteration #8220: W_new = [11.10416667 10.60416667], MSE = 597.49\n",
      "Iteration #8230: W_new = [11.10416667 10.60416667], MSE = 597.49\n",
      "Iteration #8240: W_new = [11.10416667 10.60416667], MSE = 597.49\n",
      "Iteration #8250: W_new = [11.10416667 10.60416667], MSE = 597.49\n",
      "Iteration #8260: W_new = [11.10416667 10.60416667], MSE = 597.49\n",
      "Iteration #8270: W_new = [11.10416667 10.60416667], MSE = 597.49\n",
      "Iteration #8280: W_new = [11.10416667 10.60416667], MSE = 597.49\n",
      "Iteration #8290: W_new = [11.10416667 10.60416667], MSE = 597.49\n",
      "Iteration #8300: W_new = [11.10416667 10.60416667], MSE = 597.49\n",
      "Iteration #8310: W_new = [11.10416667 10.60416667], MSE = 597.49\n",
      "Iteration #8320: W_new = [11.10416667 10.60416667], MSE = 597.49\n",
      "Iteration #8330: W_new = [11.10416667 10.60416667], MSE = 597.49\n",
      "Iteration #8340: W_new = [11.10416667 10.60416667], MSE = 597.49\n",
      "Iteration #8350: W_new = [11.10416667 10.60416667], MSE = 597.49\n",
      "Iteration #8360: W_new = [11.10416667 10.60416667], MSE = 597.49\n",
      "Iteration #8370: W_new = [11.10416667 10.60416667], MSE = 597.49\n",
      "Iteration #8380: W_new = [11.10416667 10.60416667], MSE = 597.49\n",
      "Iteration #8390: W_new = [11.10416667 10.60416667], MSE = 597.49\n",
      "Iteration #8400: W_new = [11.10416667 10.60416667], MSE = 597.49\n",
      "Iteration #8410: W_new = [11.10416667 10.60416667], MSE = 597.49\n",
      "Iteration #8420: W_new = [11.10416667 10.60416667], MSE = 597.49\n",
      "Iteration #8430: W_new = [11.10416667 10.60416667], MSE = 597.49\n",
      "Iteration #8440: W_new = [11.10416667 10.60416667], MSE = 597.49\n",
      "Iteration #8450: W_new = [11.10416667 10.60416667], MSE = 597.49\n",
      "Iteration #8460: W_new = [11.10416667 10.60416667], MSE = 597.49\n",
      "Iteration #8470: W_new = [11.10416667 10.60416667], MSE = 597.49\n",
      "Iteration #8480: W_new = [11.10416667 10.60416667], MSE = 597.49\n",
      "Iteration #8490: W_new = [11.10416667 10.60416667], MSE = 597.49\n",
      "Iteration #8500: W_new = [11.10416667 10.60416667], MSE = 597.49\n",
      "Iteration #8510: W_new = [11.10416667 10.60416667], MSE = 597.49\n",
      "Iteration #8520: W_new = [11.10416667 10.60416667], MSE = 597.49\n",
      "Iteration #8530: W_new = [11.10416667 10.60416667], MSE = 597.49\n",
      "Iteration #8540: W_new = [11.10416667 10.60416667], MSE = 597.49\n",
      "Iteration #8550: W_new = [11.10416667 10.60416667], MSE = 597.49\n",
      "Iteration #8560: W_new = [11.10416667 10.60416667], MSE = 597.49\n",
      "Iteration #8570: W_new = [11.10416667 10.60416667], MSE = 597.49\n",
      "Iteration #8580: W_new = [11.10416667 10.60416667], MSE = 597.49\n",
      "Iteration #8590: W_new = [11.10416667 10.60416667], MSE = 597.49\n",
      "Iteration #8600: W_new = [11.10416667 10.60416667], MSE = 597.49\n",
      "Iteration #8610: W_new = [11.10416667 10.60416667], MSE = 597.49\n",
      "Iteration #8620: W_new = [11.10416667 10.60416667], MSE = 597.49\n",
      "Iteration #8630: W_new = [11.10416667 10.60416667], MSE = 597.49\n",
      "Iteration #8640: W_new = [11.10416667 10.60416667], MSE = 597.49\n",
      "Iteration #8650: W_new = [11.10416667 10.60416667], MSE = 597.49\n",
      "Iteration #8660: W_new = [11.10416667 10.60416667], MSE = 597.49\n",
      "Iteration #8670: W_new = [11.10416667 10.60416667], MSE = 597.49\n",
      "Iteration #8680: W_new = [11.10416667 10.60416667], MSE = 597.49\n",
      "Iteration #8690: W_new = [11.10416667 10.60416667], MSE = 597.49\n",
      "Iteration #8700: W_new = [11.10416667 10.60416667], MSE = 597.49\n",
      "Iteration #8710: W_new = [11.10416667 10.60416667], MSE = 597.49\n",
      "Iteration #8720: W_new = [11.10416667 10.60416667], MSE = 597.49\n",
      "Iteration #8730: W_new = [11.10416667 10.60416667], MSE = 597.49\n",
      "Iteration #8740: W_new = [11.10416667 10.60416667], MSE = 597.49\n",
      "Iteration #8750: W_new = [11.10416667 10.60416667], MSE = 597.49\n",
      "Iteration #8760: W_new = [11.10416667 10.60416667], MSE = 597.49\n",
      "Iteration #8770: W_new = [11.10416667 10.60416667], MSE = 597.49\n",
      "Iteration #8780: W_new = [11.10416667 10.60416667], MSE = 597.49\n",
      "Iteration #8790: W_new = [11.10416667 10.60416667], MSE = 597.49\n",
      "Iteration #8800: W_new = [11.10416667 10.60416667], MSE = 597.49\n"
     ]
    },
    {
     "name": "stdout",
     "output_type": "stream",
     "text": [
      "Iteration #8810: W_new = [11.10416667 10.60416667], MSE = 597.49\n",
      "Iteration #8820: W_new = [11.10416667 10.60416667], MSE = 597.49\n",
      "Iteration #8830: W_new = [11.10416667 10.60416667], MSE = 597.49\n",
      "Iteration #8840: W_new = [11.10416667 10.60416667], MSE = 597.49\n",
      "Iteration #8850: W_new = [11.10416667 10.60416667], MSE = 597.49\n",
      "Iteration #8860: W_new = [11.10416667 10.60416667], MSE = 597.49\n",
      "Iteration #8870: W_new = [11.10416667 10.60416667], MSE = 597.49\n",
      "Iteration #8880: W_new = [11.10416667 10.60416667], MSE = 597.49\n",
      "Iteration #8890: W_new = [11.10416667 10.60416667], MSE = 597.49\n",
      "Iteration #8900: W_new = [11.10416667 10.60416667], MSE = 597.49\n",
      "Iteration #8910: W_new = [11.10416667 10.60416667], MSE = 597.49\n",
      "Iteration #8920: W_new = [11.10416667 10.60416667], MSE = 597.49\n",
      "Iteration #8930: W_new = [11.10416667 10.60416667], MSE = 597.49\n",
      "Iteration #8940: W_new = [11.10416667 10.60416667], MSE = 597.49\n",
      "Iteration #8950: W_new = [11.10416667 10.60416667], MSE = 597.49\n",
      "Iteration #8960: W_new = [11.10416667 10.60416667], MSE = 597.49\n",
      "Iteration #8970: W_new = [11.10416667 10.60416667], MSE = 597.49\n",
      "Iteration #8980: W_new = [11.10416667 10.60416667], MSE = 597.49\n",
      "Iteration #8990: W_new = [11.10416667 10.60416667], MSE = 597.49\n",
      "Iteration #9000: W_new = [11.10416667 10.60416667], MSE = 597.49\n",
      "Iteration #9010: W_new = [11.10416667 10.60416667], MSE = 597.49\n",
      "Iteration #9020: W_new = [11.10416667 10.60416667], MSE = 597.49\n",
      "Iteration #9030: W_new = [11.10416667 10.60416667], MSE = 597.49\n",
      "Iteration #9040: W_new = [11.10416667 10.60416667], MSE = 597.49\n",
      "Iteration #9050: W_new = [11.10416667 10.60416667], MSE = 597.49\n",
      "Iteration #9060: W_new = [11.10416667 10.60416667], MSE = 597.49\n",
      "Iteration #9070: W_new = [11.10416667 10.60416667], MSE = 597.49\n",
      "Iteration #9080: W_new = [11.10416667 10.60416667], MSE = 597.49\n",
      "Iteration #9090: W_new = [11.10416667 10.60416667], MSE = 597.49\n",
      "Iteration #9100: W_new = [11.10416667 10.60416667], MSE = 597.49\n",
      "Iteration #9110: W_new = [11.10416667 10.60416667], MSE = 597.49\n",
      "Iteration #9120: W_new = [11.10416667 10.60416667], MSE = 597.49\n",
      "Iteration #9130: W_new = [11.10416667 10.60416667], MSE = 597.49\n",
      "Iteration #9140: W_new = [11.10416667 10.60416667], MSE = 597.49\n",
      "Iteration #9150: W_new = [11.10416667 10.60416667], MSE = 597.49\n",
      "Iteration #9160: W_new = [11.10416667 10.60416667], MSE = 597.49\n",
      "Iteration #9170: W_new = [11.10416667 10.60416667], MSE = 597.49\n",
      "Iteration #9180: W_new = [11.10416667 10.60416667], MSE = 597.49\n",
      "Iteration #9190: W_new = [11.10416667 10.60416667], MSE = 597.49\n",
      "Iteration #9200: W_new = [11.10416667 10.60416667], MSE = 597.49\n",
      "Iteration #9210: W_new = [11.10416667 10.60416667], MSE = 597.49\n",
      "Iteration #9220: W_new = [11.10416667 10.60416667], MSE = 597.49\n",
      "Iteration #9230: W_new = [11.10416667 10.60416667], MSE = 597.49\n",
      "Iteration #9240: W_new = [11.10416667 10.60416667], MSE = 597.49\n",
      "Iteration #9250: W_new = [11.10416667 10.60416667], MSE = 597.49\n",
      "Iteration #9260: W_new = [11.10416667 10.60416667], MSE = 597.49\n",
      "Iteration #9270: W_new = [11.10416667 10.60416667], MSE = 597.49\n",
      "Iteration #9280: W_new = [11.10416667 10.60416667], MSE = 597.49\n",
      "Iteration #9290: W_new = [11.10416667 10.60416667], MSE = 597.49\n",
      "Iteration #9300: W_new = [11.10416667 10.60416667], MSE = 597.49\n",
      "Iteration #9310: W_new = [11.10416667 10.60416667], MSE = 597.49\n",
      "Iteration #9320: W_new = [11.10416667 10.60416667], MSE = 597.49\n",
      "Iteration #9330: W_new = [11.10416667 10.60416667], MSE = 597.49\n",
      "Iteration #9340: W_new = [11.10416667 10.60416667], MSE = 597.49\n",
      "Iteration #9350: W_new = [11.10416667 10.60416667], MSE = 597.49\n",
      "Iteration #9360: W_new = [11.10416667 10.60416667], MSE = 597.49\n",
      "Iteration #9370: W_new = [11.10416667 10.60416667], MSE = 597.49\n",
      "Iteration #9380: W_new = [11.10416667 10.60416667], MSE = 597.49\n",
      "Iteration #9390: W_new = [11.10416667 10.60416667], MSE = 597.49\n",
      "Iteration #9400: W_new = [11.10416667 10.60416667], MSE = 597.49\n",
      "Iteration #9410: W_new = [11.10416667 10.60416667], MSE = 597.49\n",
      "Iteration #9420: W_new = [11.10416667 10.60416667], MSE = 597.49\n",
      "Iteration #9430: W_new = [11.10416667 10.60416667], MSE = 597.49\n",
      "Iteration #9440: W_new = [11.10416667 10.60416667], MSE = 597.49\n",
      "Iteration #9450: W_new = [11.10416667 10.60416667], MSE = 597.49\n",
      "Iteration #9460: W_new = [11.10416667 10.60416667], MSE = 597.49\n",
      "Iteration #9470: W_new = [11.10416667 10.60416667], MSE = 597.49\n",
      "Iteration #9480: W_new = [11.10416667 10.60416667], MSE = 597.49\n",
      "Iteration #9490: W_new = [11.10416667 10.60416667], MSE = 597.49\n",
      "Iteration #9500: W_new = [11.10416667 10.60416667], MSE = 597.49\n",
      "Iteration #9510: W_new = [11.10416667 10.60416667], MSE = 597.49\n",
      "Iteration #9520: W_new = [11.10416667 10.60416667], MSE = 597.49\n",
      "Iteration #9530: W_new = [11.10416667 10.60416667], MSE = 597.49\n",
      "Iteration #9540: W_new = [11.10416667 10.60416667], MSE = 597.49\n",
      "Iteration #9550: W_new = [11.10416667 10.60416667], MSE = 597.49\n",
      "Iteration #9560: W_new = [11.10416667 10.60416667], MSE = 597.49\n",
      "Iteration #9570: W_new = [11.10416667 10.60416667], MSE = 597.49\n",
      "Iteration #9580: W_new = [11.10416667 10.60416667], MSE = 597.49\n",
      "Iteration #9590: W_new = [11.10416667 10.60416667], MSE = 597.49\n",
      "Iteration #9600: W_new = [11.10416667 10.60416667], MSE = 597.49\n",
      "Iteration #9610: W_new = [11.10416667 10.60416667], MSE = 597.49\n",
      "Iteration #9620: W_new = [11.10416667 10.60416667], MSE = 597.49\n",
      "Iteration #9630: W_new = [11.10416667 10.60416667], MSE = 597.49\n",
      "Iteration #9640: W_new = [11.10416667 10.60416667], MSE = 597.49\n",
      "Iteration #9650: W_new = [11.10416667 10.60416667], MSE = 597.49\n",
      "Iteration #9660: W_new = [11.10416667 10.60416667], MSE = 597.49\n",
      "Iteration #9670: W_new = [11.10416667 10.60416667], MSE = 597.49\n",
      "Iteration #9680: W_new = [11.10416667 10.60416667], MSE = 597.49\n",
      "Iteration #9690: W_new = [11.10416667 10.60416667], MSE = 597.49\n",
      "Iteration #9700: W_new = [11.10416667 10.60416667], MSE = 597.49\n",
      "Iteration #9710: W_new = [11.10416667 10.60416667], MSE = 597.49\n",
      "Iteration #9720: W_new = [11.10416667 10.60416667], MSE = 597.49\n",
      "Iteration #9730: W_new = [11.10416667 10.60416667], MSE = 597.49\n",
      "Iteration #9740: W_new = [11.10416667 10.60416667], MSE = 597.49\n",
      "Iteration #9750: W_new = [11.10416667 10.60416667], MSE = 597.49\n",
      "Iteration #9760: W_new = [11.10416667 10.60416667], MSE = 597.49\n",
      "Iteration #9770: W_new = [11.10416667 10.60416667], MSE = 597.49\n",
      "Iteration #9780: W_new = [11.10416667 10.60416667], MSE = 597.49\n",
      "Iteration #9790: W_new = [11.10416667 10.60416667], MSE = 597.49\n",
      "Iteration #9800: W_new = [11.10416667 10.60416667], MSE = 597.49\n",
      "Iteration #9810: W_new = [11.10416667 10.60416667], MSE = 597.49\n",
      "Iteration #9820: W_new = [11.10416667 10.60416667], MSE = 597.49\n",
      "Iteration #9830: W_new = [11.10416667 10.60416667], MSE = 597.49\n",
      "Iteration #9840: W_new = [11.10416667 10.60416667], MSE = 597.49\n",
      "Iteration #9850: W_new = [11.10416667 10.60416667], MSE = 597.49\n",
      "Iteration #9860: W_new = [11.10416667 10.60416667], MSE = 597.49\n",
      "Iteration #9870: W_new = [11.10416667 10.60416667], MSE = 597.49\n",
      "Iteration #9880: W_new = [11.10416667 10.60416667], MSE = 597.49\n",
      "Iteration #9890: W_new = [11.10416667 10.60416667], MSE = 597.49\n",
      "Iteration #9900: W_new = [11.10416667 10.60416667], MSE = 597.49\n",
      "Iteration #9910: W_new = [11.10416667 10.60416667], MSE = 597.49\n",
      "Iteration #9920: W_new = [11.10416667 10.60416667], MSE = 597.49\n",
      "Iteration #9930: W_new = [11.10416667 10.60416667], MSE = 597.49\n",
      "Iteration #9940: W_new = [11.10416667 10.60416667], MSE = 597.49\n",
      "Iteration #9950: W_new = [11.10416667 10.60416667], MSE = 597.49\n",
      "Iteration #9960: W_new = [11.10416667 10.60416667], MSE = 597.49\n",
      "Iteration #9970: W_new = [11.10416667 10.60416667], MSE = 597.49\n",
      "Iteration #9980: W_new = [11.10416667 10.60416667], MSE = 597.49\n",
      "Iteration #9990: W_new = [11.10416667 10.60416667], MSE = 597.49\n"
     ]
    }
   ],
   "source": [
    "n = X.shape[1]\n",
    "alpha = 1e-2\n",
    "W = np.array([1, 0.5])\n",
    "print(f'Number of objects = {n} \\\n",
    "       \\nLearning rate = {alpha} \\\n",
    "       \\nInitial weights = {W} \\n')\n",
    "\n",
    "for i in range(10000):\n",
    "    y_pred = np.dot(W, X)\n",
    "    err = calc_mse(y, y_pred)\n",
    "#     for k in range(W.shape[0]):\n",
    "#         W[k] -= alpha * (1/n * 2 * np.sum(X[k] * (y_pred - y)))\n",
    "    W -= alpha * (1/n * 2 * np.sum(X * (y_pred - y)))\n",
    "    W_pred = W\n",
    "    if i % 10 == 0:\n",
    "        print(f'Iteration #{i}: W_new = {W}, MSE = {round(err,2)}')"
   ]
  },
  {
   "cell_type": "code",
   "execution_count": null,
   "metadata": {
    "collapsed": true
   },
   "outputs": [],
   "source": []
  }
 ],
 "metadata": {
  "colab": {
   "collapsed_sections": [],
   "name": "Lesson1.ipynb",
   "provenance": []
  },
  "kernelspec": {
   "display_name": "Python 3",
   "language": "python",
   "name": "python3"
  },
  "language_info": {
   "codemirror_mode": {
    "name": "ipython",
    "version": 3
   },
   "file_extension": ".py",
   "mimetype": "text/x-python",
   "name": "python",
   "nbconvert_exporter": "python",
   "pygments_lexer": "ipython3",
   "version": "3.7.4"
  }
 },
 "nbformat": 4,
 "nbformat_minor": 1
}
